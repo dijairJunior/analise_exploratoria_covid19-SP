{
  "nbformat": 4,
  "nbformat_minor": 0,
  "metadata": {
    "colab": {
      "provenance": [],
      "include_colab_link": true
    },
    "kernelspec": {
      "name": "python3",
      "display_name": "Python 3"
    },
    "language_info": {
      "name": "python"
    },
    "gpuClass": "standard"
  },
  "cells": [
    {
      "cell_type": "markdown",
      "metadata": {
        "id": "view-in-github",
        "colab_type": "text"
      },
      "source": [
        "<a href=\"https://colab.research.google.com/github/juniorgtx/covid19-sp_completo/blob/main/Untitled0.ipynb\" target=\"_parent\"><img src=\"https://colab.research.google.com/assets/colab-badge.svg\" alt=\"Open In Colab\"/></a>"
      ]
    },
    {
      "cell_type": "markdown",
      "source": [
        "# Análise de Dados Exploratória dos efeitos de cados de COVID-19 no Estado de São Paulo\n",
        "\n",
        "\n",
        "\n",
        "---\n",
        "\n",
        "\n"
      ],
      "metadata": {
        "id": "chRQbgqJVdHJ"
      }
    },
    {
      "cell_type": "code",
      "source": [
        "\"jupyter notebook --NotebookApp.iopub_data_rate_limit=10000000\""
      ],
      "metadata": {
        "colab": {
          "base_uri": "https://localhost:8080/",
          "height": 35
        },
        "id": "r1W2i4g3cljY",
        "outputId": "f38f4ecd-6c9e-4009-bdef-0fe2243aeda1"
      },
      "execution_count": null,
      "outputs": [
        {
          "output_type": "execute_result",
          "data": {
            "text/plain": [
              "'jupyter notebook --NotebookApp.iopub_data_rate_limit=10000000'"
            ],
            "application/vnd.google.colaboratory.intrinsic+json": {
              "type": "string"
            }
          },
          "metadata": {},
          "execution_count": 1
        }
      ]
    },
    {
      "cell_type": "code",
      "source": [
        "import requests\n",
        "import pandas as pd\n",
        "import numpy as np\n",
        "import matplotlib.pyplot as plt\n",
        "import io\n",
        "\n",
        "url = \"https://raw.githubusercontent.com/juniorgtx/covid19-sp_completo/main/datasets/Pasta1.csv\"\n",
        "# Fazemos a requisição dos dados e atribuimos o resulta a variável dados\n",
        "obtos_sp = pd.read_csv(url, delimiter=';', encoding='ISO-8859-1', )\n",
        "\n",
        "obtos_sp.head()"
      ],
      "metadata": {
        "colab": {
          "base_uri": "https://localhost:8080/",
          "height": 270
        },
        "id": "1yt1GQysbTFZ",
        "outputId": "84b738c5-ae71-4964-d56e-fc6ef13f5179"
      },
      "execution_count": null,
      "outputs": [
        {
          "output_type": "execute_result",
          "data": {
            "text/plain": [
              "   nome_munic  codigo_ibge        data  casos  casos_novos  obitos  \\\n",
              "0  Adamantina      3500105  09/05/2020     11            1       0   \n",
              "1  Adamantina      3500105  10/05/2020     11            0       0   \n",
              "2  Adamantina      3500105  11/05/2020     11            0       0   \n",
              "3  Adamantina      3500105  12/05/2020     15            4       0   \n",
              "4  Adamantina      3500105  13/05/2020     20            5       0   \n",
              "\n",
              "   obitos_novos  semana_epidem  \n",
              "0             0             19  \n",
              "1             0             20  \n",
              "2             0             20  \n",
              "3             0             20  \n",
              "4             0             20  "
            ],
            "text/html": [
              "\n",
              "  <div id=\"df-2850f479-4e87-4b67-b63e-1e55e097637d\">\n",
              "    <div class=\"colab-df-container\">\n",
              "      <div>\n",
              "<style scoped>\n",
              "    .dataframe tbody tr th:only-of-type {\n",
              "        vertical-align: middle;\n",
              "    }\n",
              "\n",
              "    .dataframe tbody tr th {\n",
              "        vertical-align: top;\n",
              "    }\n",
              "\n",
              "    .dataframe thead th {\n",
              "        text-align: right;\n",
              "    }\n",
              "</style>\n",
              "<table border=\"1\" class=\"dataframe\">\n",
              "  <thead>\n",
              "    <tr style=\"text-align: right;\">\n",
              "      <th></th>\n",
              "      <th>nome_munic</th>\n",
              "      <th>codigo_ibge</th>\n",
              "      <th>data</th>\n",
              "      <th>casos</th>\n",
              "      <th>casos_novos</th>\n",
              "      <th>obitos</th>\n",
              "      <th>obitos_novos</th>\n",
              "      <th>semana_epidem</th>\n",
              "    </tr>\n",
              "  </thead>\n",
              "  <tbody>\n",
              "    <tr>\n",
              "      <th>0</th>\n",
              "      <td>Adamantina</td>\n",
              "      <td>3500105</td>\n",
              "      <td>09/05/2020</td>\n",
              "      <td>11</td>\n",
              "      <td>1</td>\n",
              "      <td>0</td>\n",
              "      <td>0</td>\n",
              "      <td>19</td>\n",
              "    </tr>\n",
              "    <tr>\n",
              "      <th>1</th>\n",
              "      <td>Adamantina</td>\n",
              "      <td>3500105</td>\n",
              "      <td>10/05/2020</td>\n",
              "      <td>11</td>\n",
              "      <td>0</td>\n",
              "      <td>0</td>\n",
              "      <td>0</td>\n",
              "      <td>20</td>\n",
              "    </tr>\n",
              "    <tr>\n",
              "      <th>2</th>\n",
              "      <td>Adamantina</td>\n",
              "      <td>3500105</td>\n",
              "      <td>11/05/2020</td>\n",
              "      <td>11</td>\n",
              "      <td>0</td>\n",
              "      <td>0</td>\n",
              "      <td>0</td>\n",
              "      <td>20</td>\n",
              "    </tr>\n",
              "    <tr>\n",
              "      <th>3</th>\n",
              "      <td>Adamantina</td>\n",
              "      <td>3500105</td>\n",
              "      <td>12/05/2020</td>\n",
              "      <td>15</td>\n",
              "      <td>4</td>\n",
              "      <td>0</td>\n",
              "      <td>0</td>\n",
              "      <td>20</td>\n",
              "    </tr>\n",
              "    <tr>\n",
              "      <th>4</th>\n",
              "      <td>Adamantina</td>\n",
              "      <td>3500105</td>\n",
              "      <td>13/05/2020</td>\n",
              "      <td>20</td>\n",
              "      <td>5</td>\n",
              "      <td>0</td>\n",
              "      <td>0</td>\n",
              "      <td>20</td>\n",
              "    </tr>\n",
              "  </tbody>\n",
              "</table>\n",
              "</div>\n",
              "      <button class=\"colab-df-convert\" onclick=\"convertToInteractive('df-2850f479-4e87-4b67-b63e-1e55e097637d')\"\n",
              "              title=\"Convert this dataframe to an interactive table.\"\n",
              "              style=\"display:none;\">\n",
              "        \n",
              "  <svg xmlns=\"http://www.w3.org/2000/svg\" height=\"24px\"viewBox=\"0 0 24 24\"\n",
              "       width=\"24px\">\n",
              "    <path d=\"M0 0h24v24H0V0z\" fill=\"none\"/>\n",
              "    <path d=\"M18.56 5.44l.94 2.06.94-2.06 2.06-.94-2.06-.94-.94-2.06-.94 2.06-2.06.94zm-11 1L8.5 8.5l.94-2.06 2.06-.94-2.06-.94L8.5 2.5l-.94 2.06-2.06.94zm10 10l.94 2.06.94-2.06 2.06-.94-2.06-.94-.94-2.06-.94 2.06-2.06.94z\"/><path d=\"M17.41 7.96l-1.37-1.37c-.4-.4-.92-.59-1.43-.59-.52 0-1.04.2-1.43.59L10.3 9.45l-7.72 7.72c-.78.78-.78 2.05 0 2.83L4 21.41c.39.39.9.59 1.41.59.51 0 1.02-.2 1.41-.59l7.78-7.78 2.81-2.81c.8-.78.8-2.07 0-2.86zM5.41 20L4 18.59l7.72-7.72 1.47 1.35L5.41 20z\"/>\n",
              "  </svg>\n",
              "      </button>\n",
              "      \n",
              "  <style>\n",
              "    .colab-df-container {\n",
              "      display:flex;\n",
              "      flex-wrap:wrap;\n",
              "      gap: 12px;\n",
              "    }\n",
              "\n",
              "    .colab-df-convert {\n",
              "      background-color: #E8F0FE;\n",
              "      border: none;\n",
              "      border-radius: 50%;\n",
              "      cursor: pointer;\n",
              "      display: none;\n",
              "      fill: #1967D2;\n",
              "      height: 32px;\n",
              "      padding: 0 0 0 0;\n",
              "      width: 32px;\n",
              "    }\n",
              "\n",
              "    .colab-df-convert:hover {\n",
              "      background-color: #E2EBFA;\n",
              "      box-shadow: 0px 1px 2px rgba(60, 64, 67, 0.3), 0px 1px 3px 1px rgba(60, 64, 67, 0.15);\n",
              "      fill: #174EA6;\n",
              "    }\n",
              "\n",
              "    [theme=dark] .colab-df-convert {\n",
              "      background-color: #3B4455;\n",
              "      fill: #D2E3FC;\n",
              "    }\n",
              "\n",
              "    [theme=dark] .colab-df-convert:hover {\n",
              "      background-color: #434B5C;\n",
              "      box-shadow: 0px 1px 3px 1px rgba(0, 0, 0, 0.15);\n",
              "      filter: drop-shadow(0px 1px 2px rgba(0, 0, 0, 0.3));\n",
              "      fill: #FFFFFF;\n",
              "    }\n",
              "  </style>\n",
              "\n",
              "      <script>\n",
              "        const buttonEl =\n",
              "          document.querySelector('#df-2850f479-4e87-4b67-b63e-1e55e097637d button.colab-df-convert');\n",
              "        buttonEl.style.display =\n",
              "          google.colab.kernel.accessAllowed ? 'block' : 'none';\n",
              "\n",
              "        async function convertToInteractive(key) {\n",
              "          const element = document.querySelector('#df-2850f479-4e87-4b67-b63e-1e55e097637d');\n",
              "          const dataTable =\n",
              "            await google.colab.kernel.invokeFunction('convertToInteractive',\n",
              "                                                     [key], {});\n",
              "          if (!dataTable) return;\n",
              "\n",
              "          const docLinkHtml = 'Like what you see? Visit the ' +\n",
              "            '<a target=\"_blank\" href=https://colab.research.google.com/notebooks/data_table.ipynb>data table notebook</a>'\n",
              "            + ' to learn more about interactive tables.';\n",
              "          element.innerHTML = '';\n",
              "          dataTable['output_type'] = 'display_data';\n",
              "          await google.colab.output.renderOutput(dataTable, element);\n",
              "          const docLink = document.createElement('div');\n",
              "          docLink.innerHTML = docLinkHtml;\n",
              "          element.appendChild(docLink);\n",
              "        }\n",
              "      </script>\n",
              "    </div>\n",
              "  </div>\n",
              "  "
            ]
          },
          "metadata": {},
          "execution_count": 1
        }
      ]
    },
    {
      "cell_type": "code",
      "source": [
        "obtos_sp['data'] = pd.to_datetime(obtos_sp['data'])\n",
        "\n",
        "# agrupa os casos por data\n",
        "df = obtos_sp.groupby('data').sum()['casos']\n",
        "\n",
        "# cria a figura e o eixo\n",
        "fig, ax = plt.subplots(figsize=(12,6))\n",
        "\n",
        "# plota o gráfico de barras\n",
        "ax.bar(df.index, df.values)\n",
        "\n",
        "# formata os rótulos do eixo x\n",
        "ax.set_xticks([df.index[0], df.index[180], df.index[365], df.index[545], df.index[-1]])\n",
        "ax.set_xticklabels(['JAN/2020', 'JUN/2020', 'JAN/2021', 'JUN/2021', 'JAN/2022'])\n",
        "\n",
        "# adiciona o título e os rótulos dos eixos\n",
        "ax.set_title('Casos de COVID-19 em São Paulo (2020 a 2022)')\n",
        "ax.set_xlabel('Data (Ano)')\n",
        "ax.set_ylabel('Número de casos')\n",
        "\n",
        "# mostra o gráfico\n",
        "plt.show()"
      ],
      "metadata": {
        "colab": {
          "base_uri": "https://localhost:8080/",
          "height": 619
        },
        "outputId": "c84790a3-4dce-4f97-c5fd-a2cc2fff3973",
        "id": "AieklWTYvD0J"
      },
      "execution_count": null,
      "outputs": [
        {
          "output_type": "stream",
          "name": "stderr",
          "text": [
            "<ipython-input-121-13800f9ab715>:4: FutureWarning: The default value of numeric_only in DataFrameGroupBy.sum is deprecated. In a future version, numeric_only will default to False. Either specify numeric_only or select only columns which should be valid for the function.\n",
            "  df = obtos_sp.groupby('data').sum()['casos']\n"
          ]
        },
        {
          "output_type": "display_data",
          "data": {
            "text/plain": [
              "<Figure size 1200x600 with 1 Axes>"
            ],
            "image/png": "[encoded data removed]"
          },
          "metadata": {}
        }
      ]
    },
    {
      "cell_type": "code",
      "source": [
        "import pandas as pd\n",
        "import matplotlib.pyplot as plt\n",
        "\n",
        "url = 'https://raw.githubusercontent.com/juniorgtx/covid19-sp_completo/main/datasets/Pasta1.csv'\n",
        "dados_obitos = pd.read_csv(url, delimiter=';', encoding='ISO-8859-1')\n",
        "\n",
        "# Converte a coluna 'data' para o formato de data\n",
        "dados_obitos['data'] = pd.to_datetime(dados_obitos['data'])\n",
        "\n",
        "# Agrupa os casos e óbitos por data\n",
        "df_casos = dados_obitos.groupby('data').sum()['casos']\n",
        "df_obitos = dados_obitos.groupby('data').sum()['obitos']\n",
        "\n",
        "# Cria a figura e o eixo\n",
        "fig, ax = plt.subplots(figsize=(12, 6))\n",
        "\n",
        "# Plota o gráfico de barras para casos\n",
        "ax.bar(df_casos.index, df_casos.values, label='Casos')\n",
        "\n",
        "# Plota o gráfico de barras para óbitos\n",
        "ax.bar(df_obitos.index, df_obitos.values, label='Óbitos')\n",
        "\n",
        "# Calcula a relação entre casos e óbitos\n",
        "relacao_obitos_casos = df_obitos / df_casos\n",
        "\n",
        "# Plota a linha de relação entre casos e óbitos\n",
        "ax.plot(relacao_obitos_casos.index, relacao_obitos_casos.values, color='red', label='Relação Óbitos/Casos')\n",
        "\n",
        "# Formata os rótulos do eixo x\n",
        "ax.set_xticks([df_casos.index[0], df_casos.index[180], df_casos.index[365], df_casos.index[545], df_casos.index[-1]])\n",
        "ax.set_xticklabels(['JAN/2020', 'JUN/2020', 'JAN/2021', 'JUN/2021', 'JAN/2022'])\n",
        "\n",
        "# Adiciona o título e os rótulos dos eixos\n",
        "ax.set_title('Casos e Óbitos de COVID-19 em São Paulo (2020 a 2022)')\n",
        "ax.set_xlabel('Data (Ano)')\n",
        "ax.set_ylabel('Número')\n",
        "\n",
        "# Adiciona a legenda\n",
        "ax.legend()\n",
        "\n",
        "# Mostra o gráfico\n",
        "plt.show()\n"
      ],
      "metadata": {
        "id": "vjgvQCQN5DO-",
        "outputId": "61cdc5f1-c0b3-4742-898c-db760ee9e452",
        "colab": {
          "base_uri": "https://localhost:8080/",
          "height": 689
        }
      },
      "execution_count": null,
      "outputs": [
        {
          "output_type": "stream",
          "name": "stderr",
          "text": [
            "<ipython-input-2-e30b235933f0>:8: UserWarning: Parsing dates in DD/MM/YYYY format when dayfirst=False (the default) was specified. This may lead to inconsistently parsed dates! Specify a format to ensure consistent parsing.\n",
            "  dados_obitos['data'] = pd.to_datetime(dados_obitos['data'])\n",
            "<ipython-input-2-e30b235933f0>:11: FutureWarning: The default value of numeric_only in DataFrameGroupBy.sum is deprecated. In a future version, numeric_only will default to False. Either specify numeric_only or select only columns which should be valid for the function.\n",
            "  df_casos = dados_obitos.groupby('data').sum()['casos']\n",
            "<ipython-input-2-e30b235933f0>:12: FutureWarning: The default value of numeric_only in DataFrameGroupBy.sum is deprecated. In a future version, numeric_only will default to False. Either specify numeric_only or select only columns which should be valid for the function.\n",
            "  df_obitos = dados_obitos.groupby('data').sum()['obitos']\n"
          ]
        },
        {
          "output_type": "display_data",
          "data": {
            "text/plain": [
              "<Figure size 1200x600 with 1 Axes>"
            ],
            "image/png": "[encoded data removed]"
          },
          "metadata": {}
        }
      ]
    },
    {
      "cell_type": "code",
      "source": [
        "obtos_sp.columns.values"
      ],
      "metadata": {
        "colab": {
          "base_uri": "https://localhost:8080/"
        },
        "id": "IdVjoLW4ulXv",
        "outputId": "429447f0-6eee-4e23-ca1a-56e19dc5f2a0"
      },
      "execution_count": null,
      "outputs": [
        {
          "output_type": "execute_result",
          "data": {
            "text/plain": [
              "array(['nome_munic', 'codigo_ibge', 'data', 'casos', 'casos_novos',\n",
              "       'obitos', 'obitos_novos', 'semana_epidem'], dtype=object)"
            ]
          },
          "metadata": {},
          "execution_count": 123
        }
      ]
    },
    {
      "cell_type": "code",
      "source": [
        "obtos_sp['data'] = pd.to_datetime(obtos_sp['data'])\n",
        "\n",
        "# Agrupa os casos por data\n",
        "df = obtos_sp.groupby('data').sum()['casos']\n",
        "\n",
        "# Calcula a média dos casos por ano\n",
        "media_por_ano = df.resample('Y').mean()\n",
        "\n",
        "# Cria a figura e o eixo\n",
        "fig, ax = plt.subplots(figsize=(6, 6))\n",
        "\n",
        "# Gráfico de pizza com a média dos casos por ano\n",
        "ax.pie(media_por_ano, labels=media_por_ano.index.year, autopct='%1.1f%%', startangle=90)\n",
        "\n",
        "# Adiciona o título em uma cor azul amigável\n",
        "ax.set_title('Média dos Casos de COVID-19 em São Paulo por Ano', color='blue')\n",
        "\n",
        "# Adiciona a legenda\n",
        "plt.legend(title='Ano', loc='upper left')\n",
        "\n",
        "# Exibe o gráfico\n",
        "plt.show()\n"
      ],
      "metadata": {
        "colab": {
          "base_uri": "https://localhost:8080/",
          "height": 576
        },
        "id": "MD-_3EsBpns5",
        "outputId": "c0348c53-6150-4dd6-c63e-ebde738c4a85"
      },
      "execution_count": null,
      "outputs": [
        {
          "output_type": "stream",
          "name": "stderr",
          "text": [
            "<ipython-input-128-d31abb718d64>:4: FutureWarning: The default value of numeric_only in DataFrameGroupBy.sum is deprecated. In a future version, numeric_only will default to False. Either specify numeric_only or select only columns which should be valid for the function.\n",
            "  df = obtos_sp.groupby('data').sum()['casos']\n"
          ]
        },
        {
          "output_type": "display_data",
          "data": {
            "text/plain": [
              "<Figure size 600x600 with 1 Axes>"
            ],
            "image/png": "[encoded data removed]"
          },
          "metadata": {}
        }
      ]
    },
    {
      "cell_type": "code",
      "source": [
        "obtos_sp['data'] = pd.to_datetime(obtos_sp['data'])\n",
        "df = obtos_sp.groupby('data').sum()['casos']\n",
        "obitos_por_ano = df.resample('Y').sum() # Soma dos óbitos por ano\n",
        "\n",
        "fig, ax = plt.subplots(figsize=(6, 6))\n",
        "\n",
        "# Cor para cada ano\n",
        "colors = ['green', 'yellow', 'red']\n",
        "\n",
        "# Gráfico de pizza\n",
        "ax.pie(obitos_por_ano, labels=obitos_por_ano.index.year, autopct='%1.1f%%', startangle=90, colors=colors)\n",
        "\n",
        "ax.set_title('Óbitos de COVID-19 em São Paulo por Ano')\n",
        "ax.legend(title='Ano', loc='upper left')\n",
        "plt.show()\n"
      ],
      "metadata": {
        "colab": {
          "base_uri": "https://localhost:8080/",
          "height": 579
        },
        "id": "6xjgsj5UmbLK",
        "outputId": "60746e12-c499-4ae9-fcd8-797b8673b0de"
      },
      "execution_count": null,
      "outputs": [
        {
          "output_type": "stream",
          "name": "stderr",
          "text": [
            "<ipython-input-129-28170949e9a6>:2: FutureWarning: The default value of numeric_only in DataFrameGroupBy.sum is deprecated. In a future version, numeric_only will default to False. Either specify numeric_only or select only columns which should be valid for the function.\n",
            "  df = obtos_sp.groupby('data').sum()['casos']\n"
          ]
        },
        {
          "output_type": "display_data",
          "data": {
            "text/plain": [
              "<Figure size 600x600 with 1 Axes>"
            ],
            "image/png": "[encoded data removed]"
          },
          "metadata": {}
        }
      ]
    },
    {
      "cell_type": "code",
      "source": [
        "obtos_sp.describe()"
      ],
      "metadata": {
        "colab": {
          "base_uri": "https://localhost:8080/",
          "height": 364
        },
        "id": "VGlYTotYIZIa",
        "outputId": "f67981a7-1d5f-4557-805a-1c0edeafb6c2"
      },
      "execution_count": null,
      "outputs": [
        {
          "output_type": "execute_result",
          "data": {
            "text/plain": [
              "        codigo_ibge         casos    casos_novos         obitos  \\\n",
              "count  5.340890e+05  5.340890e+05  534089.000000  534089.000000   \n",
              "mean   3.528685e+06  5.822319e+03      10.490428     183.325039   \n",
              "std    1.668916e+04  3.562089e+04      76.716124    1387.242907   \n",
              "min    3.500105e+06  1.100000e+01       0.000000       0.000000   \n",
              "25%    3.514601e+06  3.050000e+02       0.000000       7.000000   \n",
              "50%    3.528601e+06  1.004000e+03       0.000000      24.000000   \n",
              "75%    3.543204e+06  3.575000e+03       3.000000      87.000000   \n",
              "max    3.557303e+06  1.139273e+06    8646.000000   44352.000000   \n",
              "\n",
              "        obitos_novos  semana_epidem  \n",
              "count  534089.000000  534089.000000  \n",
              "mean        0.272646      28.810623  \n",
              "std         2.946256      15.179708  \n",
              "min         0.000000       1.000000  \n",
              "25%         0.000000      15.000000  \n",
              "50%         0.000000      30.000000  \n",
              "75%         0.000000      41.000000  \n",
              "max       378.000000      53.000000  "
            ],
            "text/html": [
              "\n",
              "  <div id=\"df-f71da7fd-83d8-4c93-a8da-c84bca218821\">\n",
              "    <div class=\"colab-df-container\">\n",
              "      <div>\n",
              "<style scoped>\n",
              "    .dataframe tbody tr th:only-of-type {\n",
              "        vertical-align: middle;\n",
              "    }\n",
              "\n",
              "    .dataframe tbody tr th {\n",
              "        vertical-align: top;\n",
              "    }\n",
              "\n",
              "    .dataframe thead th {\n",
              "        text-align: right;\n",
              "    }\n",
              "</style>\n",
              "<table border=\"1\" class=\"dataframe\">\n",
              "  <thead>\n",
              "    <tr style=\"text-align: right;\">\n",
              "      <th></th>\n",
              "      <th>codigo_ibge</th>\n",
              "      <th>casos</th>\n",
              "      <th>casos_novos</th>\n",
              "      <th>obitos</th>\n",
              "      <th>obitos_novos</th>\n",
              "      <th>semana_epidem</th>\n",
              "    </tr>\n",
              "  </thead>\n",
              "  <tbody>\n",
              "    <tr>\n",
              "      <th>count</th>\n",
              "      <td>5.340890e+05</td>\n",
              "      <td>5.340890e+05</td>\n",
              "      <td>534089.000000</td>\n",
              "      <td>534089.000000</td>\n",
              "      <td>534089.000000</td>\n",
              "      <td>534089.000000</td>\n",
              "    </tr>\n",
              "    <tr>\n",
              "      <th>mean</th>\n",
              "      <td>3.528685e+06</td>\n",
              "      <td>5.822319e+03</td>\n",
              "      <td>10.490428</td>\n",
              "      <td>183.325039</td>\n",
              "      <td>0.272646</td>\n",
              "      <td>28.810623</td>\n",
              "    </tr>\n",
              "    <tr>\n",
              "      <th>std</th>\n",
              "      <td>1.668916e+04</td>\n",
              "      <td>3.562089e+04</td>\n",
              "      <td>76.716124</td>\n",
              "      <td>1387.242907</td>\n",
              "      <td>2.946256</td>\n",
              "      <td>15.179708</td>\n",
              "    </tr>\n",
              "    <tr>\n",
              "      <th>min</th>\n",
              "      <td>3.500105e+06</td>\n",
              "      <td>1.100000e+01</td>\n",
              "      <td>0.000000</td>\n",
              "      <td>0.000000</td>\n",
              "      <td>0.000000</td>\n",
              "      <td>1.000000</td>\n",
              "    </tr>\n",
              "    <tr>\n",
              "      <th>25%</th>\n",
              "      <td>3.514601e+06</td>\n",
              "      <td>3.050000e+02</td>\n",
              "      <td>0.000000</td>\n",
              "      <td>7.000000</td>\n",
              "      <td>0.000000</td>\n",
              "      <td>15.000000</td>\n",
              "    </tr>\n",
              "    <tr>\n",
              "      <th>50%</th>\n",
              "      <td>3.528601e+06</td>\n",
              "      <td>1.004000e+03</td>\n",
              "      <td>0.000000</td>\n",
              "      <td>24.000000</td>\n",
              "      <td>0.000000</td>\n",
              "      <td>30.000000</td>\n",
              "    </tr>\n",
              "    <tr>\n",
              "      <th>75%</th>\n",
              "      <td>3.543204e+06</td>\n",
              "      <td>3.575000e+03</td>\n",
              "      <td>3.000000</td>\n",
              "      <td>87.000000</td>\n",
              "      <td>0.000000</td>\n",
              "      <td>41.000000</td>\n",
              "    </tr>\n",
              "    <tr>\n",
              "      <th>max</th>\n",
              "      <td>3.557303e+06</td>\n",
              "      <td>1.139273e+06</td>\n",
              "      <td>8646.000000</td>\n",
              "      <td>44352.000000</td>\n",
              "      <td>378.000000</td>\n",
              "      <td>53.000000</td>\n",
              "    </tr>\n",
              "  </tbody>\n",
              "</table>\n",
              "</div>\n",
              "      <button class=\"colab-df-convert\" onclick=\"convertToInteractive('df-f71da7fd-83d8-4c93-a8da-c84bca218821')\"\n",
              "              title=\"Convert this dataframe to an interactive table.\"\n",
              "              style=\"display:none;\">\n",
              "        \n",
              "  <svg xmlns=\"http://www.w3.org/2000/svg\" height=\"24px\"viewBox=\"0 0 24 24\"\n",
              "       width=\"24px\">\n",
              "    <path d=\"M0 0h24v24H0V0z\" fill=\"none\"/>\n",
              "    <path d=\"M18.56 5.44l.94 2.06.94-2.06 2.06-.94-2.06-.94-.94-2.06-.94 2.06-2.06.94zm-11 1L8.5 8.5l.94-2.06 2.06-.94-2.06-.94L8.5 2.5l-.94 2.06-2.06.94zm10 10l.94 2.06.94-2.06 2.06-.94-2.06-.94-.94-2.06-.94 2.06-2.06.94z\"/><path d=\"M17.41 7.96l-1.37-1.37c-.4-.4-.92-.59-1.43-.59-.52 0-1.04.2-1.43.59L10.3 9.45l-7.72 7.72c-.78.78-.78 2.05 0 2.83L4 21.41c.39.39.9.59 1.41.59.51 0 1.02-.2 1.41-.59l7.78-7.78 2.81-2.81c.8-.78.8-2.07 0-2.86zM5.41 20L4 18.59l7.72-7.72 1.47 1.35L5.41 20z\"/>\n",
              "  </svg>\n",
              "      </button>\n",
              "      \n",
              "  <style>\n",
              "    .colab-df-container {\n",
              "      display:flex;\n",
              "      flex-wrap:wrap;\n",
              "      gap: 12px;\n",
              "    }\n",
              "\n",
              "    .colab-df-convert {\n",
              "      background-color: #E8F0FE;\n",
              "      border: none;\n",
              "      border-radius: 50%;\n",
              "      cursor: pointer;\n",
              "      display: none;\n",
              "      fill: #1967D2;\n",
              "      height: 32px;\n",
              "      padding: 0 0 0 0;\n",
              "      width: 32px;\n",
              "    }\n",
              "\n",
              "    .colab-df-convert:hover {\n",
              "      background-color: #E2EBFA;\n",
              "      box-shadow: 0px 1px 2px rgba(60, 64, 67, 0.3), 0px 1px 3px 1px rgba(60, 64, 67, 0.15);\n",
              "      fill: #174EA6;\n",
              "    }\n",
              "\n",
              "    [theme=dark] .colab-df-convert {\n",
              "      background-color: #3B4455;\n",
              "      fill: #D2E3FC;\n",
              "    }\n",
              "\n",
              "    [theme=dark] .colab-df-convert:hover {\n",
              "      background-color: #434B5C;\n",
              "      box-shadow: 0px 1px 3px 1px rgba(0, 0, 0, 0.15);\n",
              "      filter: drop-shadow(0px 1px 2px rgba(0, 0, 0, 0.3));\n",
              "      fill: #FFFFFF;\n",
              "    }\n",
              "  </style>\n",
              "\n",
              "      <script>\n",
              "        const buttonEl =\n",
              "          document.querySelector('#df-f71da7fd-83d8-4c93-a8da-c84bca218821 button.colab-df-convert');\n",
              "        buttonEl.style.display =\n",
              "          google.colab.kernel.accessAllowed ? 'block' : 'none';\n",
              "\n",
              "        async function convertToInteractive(key) {\n",
              "          const element = document.querySelector('#df-f71da7fd-83d8-4c93-a8da-c84bca218821');\n",
              "          const dataTable =\n",
              "            await google.colab.kernel.invokeFunction('convertToInteractive',\n",
              "                                                     [key], {});\n",
              "          if (!dataTable) return;\n",
              "\n",
              "          const docLinkHtml = 'Like what you see? Visit the ' +\n",
              "            '<a target=\"_blank\" href=https://colab.research.google.com/notebooks/data_table.ipynb>data table notebook</a>'\n",
              "            + ' to learn more about interactive tables.';\n",
              "          element.innerHTML = '';\n",
              "          dataTable['output_type'] = 'display_data';\n",
              "          await google.colab.output.renderOutput(dataTable, element);\n",
              "          const docLink = document.createElement('div');\n",
              "          docLink.innerHTML = docLinkHtml;\n",
              "          element.appendChild(docLink);\n",
              "        }\n",
              "      </script>\n",
              "    </div>\n",
              "  </div>\n",
              "  "
            ]
          },
          "metadata": {},
          "execution_count": 2
        }
      ]
    },
    {
      "cell_type": "markdown",
      "source": [
        "# DataSet para analise de mortes e as idade que foram infectado."
      ],
      "metadata": {
        "id": "CsZVhtV58UaZ"
      }
    },
    {
      "cell_type": "code",
      "source": [
        "import pandas as pd\n",
        "import matplotlib.pyplot as plt\n",
        "import numpy as np\n",
        "\n",
        "link = 'https://raw.githubusercontent.com/juniorgtx/covid19-sp_completo/main/datasets/DATAFREME_SRAG1.csv'\n",
        "casos_e_obtos = pd.read_csv(link, delimiter=';', encoding='ISO-8859-1')"
      ],
      "metadata": {
        "id": "VuLo1neCxiNE"
      },
      "execution_count": null,
      "outputs": []
    },
    {
      "cell_type": "code",
      "source": [
        "casos_e_obtos.head()"
      ],
      "metadata": {
        "id": "Pj280gj300mb",
        "colab": {
          "base_uri": "https://localhost:8080/",
          "height": 357
        },
        "outputId": "6c1cb98b-2597-4e16-8027-206e412fe0bc"
      },
      "execution_count": null,
      "outputs": [
        {
          "output_type": "execute_result",
          "data": {
            "text/plain": [
              "  DATA_DE_NOTIFICACAO  Municipio SG_UF  Faixa_Etaria        CS_RACA  \\\n",
              "0          29/04/2023  SAO PAULO    SP             0         Branca   \n",
              "1          11/05/2021  SAO PAULO    SP            35          Preta   \n",
              "2          05/05/2023  SAO PAULO    SP            90         Branca   \n",
              "3          28/04/2023  SAO PAULO    SP            85  Nao informado   \n",
              "4          22/04/2023  SAO PAULO    SP            70  Nao informado   \n",
              "\n",
              "     CS_SEXO  Outras_SRAG      EVOLUCAO  Qtde_Masculino  Qtde_Feminino  \\\n",
              "0    Feminio  Outras SRAG          Cura               0              1   \n",
              "1  Masculino     Covid-19          Cura               1              0   \n",
              "2    Feminio  Outras SRAG  Em Avaliacao               0              1   \n",
              "3  Masculino  Outras SRAG          Cura               1              0   \n",
              "4  Masculino  Outras SRAG  Em Avaliacao               1              0   \n",
              "\n",
              "   Qtde_Total  \n",
              "0           1  \n",
              "1           1  \n",
              "2           1  \n",
              "3           1  \n",
              "4           1  "
            ],
            "text/html": [
              "\n",
              "  <div id=\"df-9f761c6a-b370-4dd3-b7af-d2a2592fbfec\">\n",
              "    <div class=\"colab-df-container\">\n",
              "      <div>\n",
              "<style scoped>\n",
              "    .dataframe tbody tr th:only-of-type {\n",
              "        vertical-align: middle;\n",
              "    }\n",
              "\n",
              "    .dataframe tbody tr th {\n",
              "        vertical-align: top;\n",
              "    }\n",
              "\n",
              "    .dataframe thead th {\n",
              "        text-align: right;\n",
              "    }\n",
              "</style>\n",
              "<table border=\"1\" class=\"dataframe\">\n",
              "  <thead>\n",
              "    <tr style=\"text-align: right;\">\n",
              "      <th></th>\n",
              "      <th>DATA_DE_NOTIFICACAO</th>\n",
              "      <th>Municipio</th>\n",
              "      <th>SG_UF</th>\n",
              "      <th>Faixa_Etaria</th>\n",
              "      <th>CS_RACA</th>\n",
              "      <th>CS_SEXO</th>\n",
              "      <th>Outras_SRAG</th>\n",
              "      <th>EVOLUCAO</th>\n",
              "      <th>Qtde_Masculino</th>\n",
              "      <th>Qtde_Feminino</th>\n",
              "      <th>Qtde_Total</th>\n",
              "    </tr>\n",
              "  </thead>\n",
              "  <tbody>\n",
              "    <tr>\n",
              "      <th>0</th>\n",
              "      <td>29/04/2023</td>\n",
              "      <td>SAO PAULO</td>\n",
              "      <td>SP</td>\n",
              "      <td>0</td>\n",
              "      <td>Branca</td>\n",
              "      <td>Feminio</td>\n",
              "      <td>Outras SRAG</td>\n",
              "      <td>Cura</td>\n",
              "      <td>0</td>\n",
              "      <td>1</td>\n",
              "      <td>1</td>\n",
              "    </tr>\n",
              "    <tr>\n",
              "      <th>1</th>\n",
              "      <td>11/05/2021</td>\n",
              "      <td>SAO PAULO</td>\n",
              "      <td>SP</td>\n",
              "      <td>35</td>\n",
              "      <td>Preta</td>\n",
              "      <td>Masculino</td>\n",
              "      <td>Covid-19</td>\n",
              "      <td>Cura</td>\n",
              "      <td>1</td>\n",
              "      <td>0</td>\n",
              "      <td>1</td>\n",
              "    </tr>\n",
              "    <tr>\n",
              "      <th>2</th>\n",
              "      <td>05/05/2023</td>\n",
              "      <td>SAO PAULO</td>\n",
              "      <td>SP</td>\n",
              "      <td>90</td>\n",
              "      <td>Branca</td>\n",
              "      <td>Feminio</td>\n",
              "      <td>Outras SRAG</td>\n",
              "      <td>Em Avaliacao</td>\n",
              "      <td>0</td>\n",
              "      <td>1</td>\n",
              "      <td>1</td>\n",
              "    </tr>\n",
              "    <tr>\n",
              "      <th>3</th>\n",
              "      <td>28/04/2023</td>\n",
              "      <td>SAO PAULO</td>\n",
              "      <td>SP</td>\n",
              "      <td>85</td>\n",
              "      <td>Nao informado</td>\n",
              "      <td>Masculino</td>\n",
              "      <td>Outras SRAG</td>\n",
              "      <td>Cura</td>\n",
              "      <td>1</td>\n",
              "      <td>0</td>\n",
              "      <td>1</td>\n",
              "    </tr>\n",
              "    <tr>\n",
              "      <th>4</th>\n",
              "      <td>22/04/2023</td>\n",
              "      <td>SAO PAULO</td>\n",
              "      <td>SP</td>\n",
              "      <td>70</td>\n",
              "      <td>Nao informado</td>\n",
              "      <td>Masculino</td>\n",
              "      <td>Outras SRAG</td>\n",
              "      <td>Em Avaliacao</td>\n",
              "      <td>1</td>\n",
              "      <td>0</td>\n",
              "      <td>1</td>\n",
              "    </tr>\n",
              "  </tbody>\n",
              "</table>\n",
              "</div>\n",
              "      <button class=\"colab-df-convert\" onclick=\"convertToInteractive('df-9f761c6a-b370-4dd3-b7af-d2a2592fbfec')\"\n",
              "              title=\"Convert this dataframe to an interactive table.\"\n",
              "              style=\"display:none;\">\n",
              "        \n",
              "  <svg xmlns=\"http://www.w3.org/2000/svg\" height=\"24px\"viewBox=\"0 0 24 24\"\n",
              "       width=\"24px\">\n",
              "    <path d=\"M0 0h24v24H0V0z\" fill=\"none\"/>\n",
              "    <path d=\"M18.56 5.44l.94 2.06.94-2.06 2.06-.94-2.06-.94-.94-2.06-.94 2.06-2.06.94zm-11 1L8.5 8.5l.94-2.06 2.06-.94-2.06-.94L8.5 2.5l-.94 2.06-2.06.94zm10 10l.94 2.06.94-2.06 2.06-.94-2.06-.94-.94-2.06-.94 2.06-2.06.94z\"/><path d=\"M17.41 7.96l-1.37-1.37c-.4-.4-.92-.59-1.43-.59-.52 0-1.04.2-1.43.59L10.3 9.45l-7.72 7.72c-.78.78-.78 2.05 0 2.83L4 21.41c.39.39.9.59 1.41.59.51 0 1.02-.2 1.41-.59l7.78-7.78 2.81-2.81c.8-.78.8-2.07 0-2.86zM5.41 20L4 18.59l7.72-7.72 1.47 1.35L5.41 20z\"/>\n",
              "  </svg>\n",
              "      </button>\n",
              "      \n",
              "  <style>\n",
              "    .colab-df-container {\n",
              "      display:flex;\n",
              "      flex-wrap:wrap;\n",
              "      gap: 12px;\n",
              "    }\n",
              "\n",
              "    .colab-df-convert {\n",
              "      background-color: #E8F0FE;\n",
              "      border: none;\n",
              "      border-radius: 50%;\n",
              "      cursor: pointer;\n",
              "      display: none;\n",
              "      fill: #1967D2;\n",
              "      height: 32px;\n",
              "      padding: 0 0 0 0;\n",
              "      width: 32px;\n",
              "    }\n",
              "\n",
              "    .colab-df-convert:hover {\n",
              "      background-color: #E2EBFA;\n",
              "      box-shadow: 0px 1px 2px rgba(60, 64, 67, 0.3), 0px 1px 3px 1px rgba(60, 64, 67, 0.15);\n",
              "      fill: #174EA6;\n",
              "    }\n",
              "\n",
              "    [theme=dark] .colab-df-convert {\n",
              "      background-color: #3B4455;\n",
              "      fill: #D2E3FC;\n",
              "    }\n",
              "\n",
              "    [theme=dark] .colab-df-convert:hover {\n",
              "      background-color: #434B5C;\n",
              "      box-shadow: 0px 1px 3px 1px rgba(0, 0, 0, 0.15);\n",
              "      filter: drop-shadow(0px 1px 2px rgba(0, 0, 0, 0.3));\n",
              "      fill: #FFFFFF;\n",
              "    }\n",
              "  </style>\n",
              "\n",
              "      <script>\n",
              "        const buttonEl =\n",
              "          document.querySelector('#df-9f761c6a-b370-4dd3-b7af-d2a2592fbfec button.colab-df-convert');\n",
              "        buttonEl.style.display =\n",
              "          google.colab.kernel.accessAllowed ? 'block' : 'none';\n",
              "\n",
              "        async function convertToInteractive(key) {\n",
              "          const element = document.querySelector('#df-9f761c6a-b370-4dd3-b7af-d2a2592fbfec');\n",
              "          const dataTable =\n",
              "            await google.colab.kernel.invokeFunction('convertToInteractive',\n",
              "                                                     [key], {});\n",
              "          if (!dataTable) return;\n",
              "\n",
              "          const docLinkHtml = 'Like what you see? Visit the ' +\n",
              "            '<a target=\"_blank\" href=https://colab.research.google.com/notebooks/data_table.ipynb>data table notebook</a>'\n",
              "            + ' to learn more about interactive tables.';\n",
              "          element.innerHTML = '';\n",
              "          dataTable['output_type'] = 'display_data';\n",
              "          await google.colab.output.renderOutput(dataTable, element);\n",
              "          const docLink = document.createElement('div');\n",
              "          docLink.innerHTML = docLinkHtml;\n",
              "          element.appendChild(docLink);\n",
              "        }\n",
              "      </script>\n",
              "    </div>\n",
              "  </div>\n",
              "  "
            ]
          },
          "metadata": {},
          "execution_count": 102
        }
      ]
    },
    {
      "cell_type": "code",
      "source": [
        "casos_e_obtos.columns.values"
      ],
      "metadata": {
        "colab": {
          "base_uri": "https://localhost:8080/"
        },
        "id": "zIID93SHAiSx",
        "outputId": "4660615d-fef0-44ed-adb7-8f44de25717a"
      },
      "execution_count": null,
      "outputs": [
        {
          "output_type": "execute_result",
          "data": {
            "text/plain": [
              "array(['DATA_DE_NOTIFICACAO', 'Municipio', 'SG_UF', 'Faixa_Etaria',\n",
              "       'CS_RACA', 'CS_SEXO', 'Outras_SRAG', 'EVOLUCAO', 'Qtde_Masculino',\n",
              "       'Qtde_Feminino', 'Qtde_Total'], dtype=object)"
            ]
          },
          "metadata": {},
          "execution_count": 103
        }
      ]
    },
    {
      "cell_type": "code",
      "source": [
        "culanaselecionados = ['DATA_DE_NOTIFICACAO', 'Municipio', 'SG_UF', 'Faixa_Etaria',\n",
        "       'CS_RACA', 'CS_SEXO', 'Outras_SRAG', 'EVOLUCAO', 'Qtde_Masculino',\n",
        "       'Qtde_Feminino', 'Qtde_Total']"
      ],
      "metadata": {
        "id": "ho-Li4tyBIrg"
      },
      "execution_count": null,
      "outputs": []
    },
    {
      "cell_type": "code",
      "source": [
        "casos_e_obtos = casos_e_obtos.filter(items=culanaselecionados)\n",
        "\n",
        "casos_e_obtos.head()"
      ],
      "metadata": {
        "colab": {
          "base_uri": "https://localhost:8080/",
          "height": 357
        },
        "id": "GiEUR9qCBXRK",
        "outputId": "4d493ec6-8fe9-4202-8913-9fe2ff2aac51"
      },
      "execution_count": null,
      "outputs": [
        {
          "output_type": "execute_result",
          "data": {
            "text/plain": [
              "  DATA_DE_NOTIFICACAO  Municipio SG_UF  Faixa_Etaria        CS_RACA  \\\n",
              "0          29/04/2023  SAO PAULO    SP             0         Branca   \n",
              "1          11/05/2021  SAO PAULO    SP            35          Preta   \n",
              "2          05/05/2023  SAO PAULO    SP            90         Branca   \n",
              "3          28/04/2023  SAO PAULO    SP            85  Nao informado   \n",
              "4          22/04/2023  SAO PAULO    SP            70  Nao informado   \n",
              "\n",
              "     CS_SEXO  Outras_SRAG      EVOLUCAO  Qtde_Masculino  Qtde_Feminino  \\\n",
              "0    Feminio  Outras SRAG          Cura               0              1   \n",
              "1  Masculino     Covid-19          Cura               1              0   \n",
              "2    Feminio  Outras SRAG  Em Avaliacao               0              1   \n",
              "3  Masculino  Outras SRAG          Cura               1              0   \n",
              "4  Masculino  Outras SRAG  Em Avaliacao               1              0   \n",
              "\n",
              "   Qtde_Total  \n",
              "0           1  \n",
              "1           1  \n",
              "2           1  \n",
              "3           1  \n",
              "4           1  "
            ],
            "text/html": [
              "\n",
              "  <div id=\"df-6e1be623-7c88-4ca5-a0bc-c6772e3bdec6\">\n",
              "    <div class=\"colab-df-container\">\n",
              "      <div>\n",
              "<style scoped>\n",
              "    .dataframe tbody tr th:only-of-type {\n",
              "        vertical-align: middle;\n",
              "    }\n",
              "\n",
              "    .dataframe tbody tr th {\n",
              "        vertical-align: top;\n",
              "    }\n",
              "\n",
              "    .dataframe thead th {\n",
              "        text-align: right;\n",
              "    }\n",
              "</style>\n",
              "<table border=\"1\" class=\"dataframe\">\n",
              "  <thead>\n",
              "    <tr style=\"text-align: right;\">\n",
              "      <th></th>\n",
              "      <th>DATA_DE_NOTIFICACAO</th>\n",
              "      <th>Municipio</th>\n",
              "      <th>SG_UF</th>\n",
              "      <th>Faixa_Etaria</th>\n",
              "      <th>CS_RACA</th>\n",
              "      <th>CS_SEXO</th>\n",
              "      <th>Outras_SRAG</th>\n",
              "      <th>EVOLUCAO</th>\n",
              "      <th>Qtde_Masculino</th>\n",
              "      <th>Qtde_Feminino</th>\n",
              "      <th>Qtde_Total</th>\n",
              "    </tr>\n",
              "  </thead>\n",
              "  <tbody>\n",
              "    <tr>\n",
              "      <th>0</th>\n",
              "      <td>29/04/2023</td>\n",
              "      <td>SAO PAULO</td>\n",
              "      <td>SP</td>\n",
              "      <td>0</td>\n",
              "      <td>Branca</td>\n",
              "      <td>Feminio</td>\n",
              "      <td>Outras SRAG</td>\n",
              "      <td>Cura</td>\n",
              "      <td>0</td>\n",
              "      <td>1</td>\n",
              "      <td>1</td>\n",
              "    </tr>\n",
              "    <tr>\n",
              "      <th>1</th>\n",
              "      <td>11/05/2021</td>\n",
              "      <td>SAO PAULO</td>\n",
              "      <td>SP</td>\n",
              "      <td>35</td>\n",
              "      <td>Preta</td>\n",
              "      <td>Masculino</td>\n",
              "      <td>Covid-19</td>\n",
              "      <td>Cura</td>\n",
              "      <td>1</td>\n",
              "      <td>0</td>\n",
              "      <td>1</td>\n",
              "    </tr>\n",
              "    <tr>\n",
              "      <th>2</th>\n",
              "      <td>05/05/2023</td>\n",
              "      <td>SAO PAULO</td>\n",
              "      <td>SP</td>\n",
              "      <td>90</td>\n",
              "      <td>Branca</td>\n",
              "      <td>Feminio</td>\n",
              "      <td>Outras SRAG</td>\n",
              "      <td>Em Avaliacao</td>\n",
              "      <td>0</td>\n",
              "      <td>1</td>\n",
              "      <td>1</td>\n",
              "    </tr>\n",
              "    <tr>\n",
              "      <th>3</th>\n",
              "      <td>28/04/2023</td>\n",
              "      <td>SAO PAULO</td>\n",
              "      <td>SP</td>\n",
              "      <td>85</td>\n",
              "      <td>Nao informado</td>\n",
              "      <td>Masculino</td>\n",
              "      <td>Outras SRAG</td>\n",
              "      <td>Cura</td>\n",
              "      <td>1</td>\n",
              "      <td>0</td>\n",
              "      <td>1</td>\n",
              "    </tr>\n",
              "    <tr>\n",
              "      <th>4</th>\n",
              "      <td>22/04/2023</td>\n",
              "      <td>SAO PAULO</td>\n",
              "      <td>SP</td>\n",
              "      <td>70</td>\n",
              "      <td>Nao informado</td>\n",
              "      <td>Masculino</td>\n",
              "      <td>Outras SRAG</td>\n",
              "      <td>Em Avaliacao</td>\n",
              "      <td>1</td>\n",
              "      <td>0</td>\n",
              "      <td>1</td>\n",
              "    </tr>\n",
              "  </tbody>\n",
              "</table>\n",
              "</div>\n",
              "      <button class=\"colab-df-convert\" onclick=\"convertToInteractive('df-6e1be623-7c88-4ca5-a0bc-c6772e3bdec6')\"\n",
              "              title=\"Convert this dataframe to an interactive table.\"\n",
              "              style=\"display:none;\">\n",
              "        \n",
              "  <svg xmlns=\"http://www.w3.org/2000/svg\" height=\"24px\"viewBox=\"0 0 24 24\"\n",
              "       width=\"24px\">\n",
              "    <path d=\"M0 0h24v24H0V0z\" fill=\"none\"/>\n",
              "    <path d=\"M18.56 5.44l.94 2.06.94-2.06 2.06-.94-2.06-.94-.94-2.06-.94 2.06-2.06.94zm-11 1L8.5 8.5l.94-2.06 2.06-.94-2.06-.94L8.5 2.5l-.94 2.06-2.06.94zm10 10l.94 2.06.94-2.06 2.06-.94-2.06-.94-.94-2.06-.94 2.06-2.06.94z\"/><path d=\"M17.41 7.96l-1.37-1.37c-.4-.4-.92-.59-1.43-.59-.52 0-1.04.2-1.43.59L10.3 9.45l-7.72 7.72c-.78.78-.78 2.05 0 2.83L4 21.41c.39.39.9.59 1.41.59.51 0 1.02-.2 1.41-.59l7.78-7.78 2.81-2.81c.8-.78.8-2.07 0-2.86zM5.41 20L4 18.59l7.72-7.72 1.47 1.35L5.41 20z\"/>\n",
              "  </svg>\n",
              "      </button>\n",
              "      \n",
              "  <style>\n",
              "    .colab-df-container {\n",
              "      display:flex;\n",
              "      flex-wrap:wrap;\n",
              "      gap: 12px;\n",
              "    }\n",
              "\n",
              "    .colab-df-convert {\n",
              "      background-color: #E8F0FE;\n",
              "      border: none;\n",
              "      border-radius: 50%;\n",
              "      cursor: pointer;\n",
              "      display: none;\n",
              "      fill: #1967D2;\n",
              "      height: 32px;\n",
              "      padding: 0 0 0 0;\n",
              "      width: 32px;\n",
              "    }\n",
              "\n",
              "    .colab-df-convert:hover {\n",
              "      background-color: #E2EBFA;\n",
              "      box-shadow: 0px 1px 2px rgba(60, 64, 67, 0.3), 0px 1px 3px 1px rgba(60, 64, 67, 0.15);\n",
              "      fill: #174EA6;\n",
              "    }\n",
              "\n",
              "    [theme=dark] .colab-df-convert {\n",
              "      background-color: #3B4455;\n",
              "      fill: #D2E3FC;\n",
              "    }\n",
              "\n",
              "    [theme=dark] .colab-df-convert:hover {\n",
              "      background-color: #434B5C;\n",
              "      box-shadow: 0px 1px 3px 1px rgba(0, 0, 0, 0.15);\n",
              "      filter: drop-shadow(0px 1px 2px rgba(0, 0, 0, 0.3));\n",
              "      fill: #FFFFFF;\n",
              "    }\n",
              "  </style>\n",
              "\n",
              "      <script>\n",
              "        const buttonEl =\n",
              "          document.querySelector('#df-6e1be623-7c88-4ca5-a0bc-c6772e3bdec6 button.colab-df-convert');\n",
              "        buttonEl.style.display =\n",
              "          google.colab.kernel.accessAllowed ? 'block' : 'none';\n",
              "\n",
              "        async function convertToInteractive(key) {\n",
              "          const element = document.querySelector('#df-6e1be623-7c88-4ca5-a0bc-c6772e3bdec6');\n",
              "          const dataTable =\n",
              "            await google.colab.kernel.invokeFunction('convertToInteractive',\n",
              "                                                     [key], {});\n",
              "          if (!dataTable) return;\n",
              "\n",
              "          const docLinkHtml = 'Like what you see? Visit the ' +\n",
              "            '<a target=\"_blank\" href=https://colab.research.google.com/notebooks/data_table.ipynb>data table notebook</a>'\n",
              "            + ' to learn more about interactive tables.';\n",
              "          element.innerHTML = '';\n",
              "          dataTable['output_type'] = 'display_data';\n",
              "          await google.colab.output.renderOutput(dataTable, element);\n",
              "          const docLink = document.createElement('div');\n",
              "          docLink.innerHTML = docLinkHtml;\n",
              "          element.appendChild(docLink);\n",
              "        }\n",
              "      </script>\n",
              "    </div>\n",
              "  </div>\n",
              "  "
            ]
          },
          "metadata": {},
          "execution_count": 105
        }
      ]
    },
    {
      "cell_type": "code",
      "source": [
        "import matplotlib.pyplot as plt\n",
        "import pandas as pd\n",
        "\n",
        "data = pd.read_csv('https://raw.githubusercontent.com/juniorgtx/covid19-sp_completo/main/datasets/DATAFREME_SRAG1.csv', delimiter=';', encoding='ISO-8859-1')\n",
        "\n",
        "# Filtrar os dados para incluir apenas registros com EVOLUCAO igual a \"Óbito\"\n",
        "filtered_data = data[data['EVOLUCAO'] == 'Obito']\n",
        "\n",
        "# Agrupar os dados por mês e faixa etária, e calcular a quantidade de óbitos\n",
        "grouped_data = filtered_data.groupby(['DATA_DE_NOTIFICACAO', 'Faixa_Etaria']).size().reset_index(name='Quantidade')\n",
        "\n",
        "# Ordenar os dados pela data\n",
        "grouped_data = grouped_data.sort_values(by='DATA_DE_NOTIFICACAO')\n",
        "\n",
        "# Filtrar apenas os últimos 12 meses\n",
        "last_12_months = grouped_data['DATA_DE_NOTIFICACAO'].unique()[-12:]\n",
        "grouped_data = grouped_data[grouped_data['DATA_DE_NOTIFICACAO'].isin(last_12_months)]\n",
        "\n",
        "# Mapear as faixas etárias diretamente para as cores correspondentes\n",
        "colors = ['tab:blue', 'tab:orange', 'tab:green', 'tab:red', 'tab:purple', 'tab:brown', 'tab:pink', 'tab:gray', 'tab:olive']\n",
        "\n",
        "# Criar o gráfico de barras agrupadas\n",
        "fig, ax = plt.subplots(figsize=(12, 8))\n",
        "bars = ax.bar(grouped_data['DATA_DE_NOTIFICACAO'], grouped_data['Quantidade'], color=colors)\n",
        "\n",
        "# Adicionar os rótulos das faixas etárias nas barras\n",
        "for bar, label in zip(bars, grouped_data['Faixa_Etaria']):\n",
        "    height = bar.get_height()\n",
        "    ax.annotate(label, xy=(bar.get_x() + bar.get_width() / 2, height),\n",
        "                xytext=(0, -5),  # Deslocamento vertical ajustado para -5\n",
        "                textcoords=\"offset points\",\n",
        "                ha='center', va='center',\n",
        "                bbox=dict(facecolor='white', edgecolor='white', boxstyle='round,pad=0.3'))  # Largura aumentada para 0.3\n",
        "# Configurar os rótulos dos eixos\n",
        "ax.set_xlabel('Mês')\n",
        "ax.set_ylabel('Quantidade de óbitos')\n",
        "ax.set_title('Quantidade de óbitos por faixa etária nos meses finais de cada ano')\n",
        "\n",
        "# Configurar a legenda das cores\n",
        "legend_labels = ['0-9', '10-19', '20-29', '30-39', '40-49', '50-59', '60-69', '70-79', '80+']\n",
        "ax.legend(legend_labels)\n",
        "\n",
        "# Girar os rótulos do eixo x em 45 graus para melhorar a legibilidade\n",
        "plt.xticks(rotation=45)\n",
        "\n",
        "# Ajustar o layout para evitar cortes de rótulos\n",
        "plt.tight_layout()\n",
        "\n",
        "# Mostrar o gráfico\n",
        "plt.show()"
      ],
      "metadata": {
        "colab": {
          "base_uri": "https://localhost:8080/",
          "height": 807
        },
        "id": "o-eUXKRvYlyA",
        "outputId": "e0cf0ef8-b421-4449-e9b1-4ca5ad1c576c"
      },
      "execution_count": null,
      "outputs": [
        {
          "output_type": "display_data",
          "data": {
            "text/plain": [
              "<Figure size 1200x800 with 1 Axes>"
            ],
            "image/png": "[encoded data removed]"
          },
          "metadata": {}
        }
      ]
    },
    {
      "cell_type": "markdown",
      "source": [
        "## Quantidade de homens e mulheres foram infectados pelo Covid19"
      ],
      "metadata": {
        "id": "v82h0QtrC7TX"
      }
    },
    {
      "cell_type": "code",
      "source": [
        "coluna_cs_sexo = casos_e_obtos['CS_SEXO']\n",
        "coluna_cs_sexo"
      ],
      "metadata": {
        "colab": {
          "base_uri": "https://localhost:8080/"
        },
        "id": "CkdxuwPkC5km",
        "outputId": "fb50421e-eb86-4481-9373-b45ef8735b26"
      },
      "execution_count": null,
      "outputs": [
        {
          "output_type": "execute_result",
          "data": {
            "text/plain": [
              "0           Feminio\n",
              "1         Masculino\n",
              "2           Feminio\n",
              "3         Masculino\n",
              "4         Masculino\n",
              "            ...    \n",
              "173873      Feminio\n",
              "173874    Masculino\n",
              "173875    Masculino\n",
              "173876      Feminio\n",
              "173877    Masculino\n",
              "Name: CS_SEXO, Length: 173878, dtype: object"
            ]
          },
          "metadata": {},
          "execution_count": 71
        }
      ]
    },
    {
      "cell_type": "code",
      "source": [
        "coluna_cs_sexo.value_counts().sort_index()"
      ],
      "metadata": {
        "colab": {
          "base_uri": "https://localhost:8080/"
        },
        "id": "wJsjLgQ-GZza",
        "outputId": "27d058a6-fd3d-4af9-c989-b6fa23b56162"
      },
      "execution_count": null,
      "outputs": [
        {
          "output_type": "execute_result",
          "data": {
            "text/plain": [
              "Feminio          170682\n",
              "Masculino        195484\n",
              "Não Informado        11\n",
              "Name: CS_SEXO, dtype: int64"
            ]
          },
          "metadata": {},
          "execution_count": 25
        }
      ]
    },
    {
      "cell_type": "code",
      "source": [
        "coluna_cs_sexo.hist(bins=4)"
      ],
      "metadata": {
        "colab": {
          "base_uri": "https://localhost:8080/",
          "height": 447
        },
        "id": "d2_ESMX5Gej_",
        "outputId": "0c5492e8-538d-48c6-e001-3181fd96b593"
      },
      "execution_count": null,
      "outputs": [
        {
          "output_type": "execute_result",
          "data": {
            "text/plain": [
              "<Axes: >"
            ]
          },
          "metadata": {},
          "execution_count": 72
        },
        {
          "output_type": "display_data",
          "data": {
            "text/plain": [
              "<Figure size 640x480 with 1 Axes>"
            ],
            "image/png": "[encoded data removed]"
          },
          "metadata": {}
        }
      ]
    },
    {
      "cell_type": "markdown",
      "source": [
        "## Quatidade de Obtos, Curas e em Avaliação"
      ],
      "metadata": {
        "id": "E3cHl9lcIGaY"
      }
    },
    {
      "cell_type": "code",
      "source": [
        "coluna_evolucao = casos_e_obtos['EVOLUCAO']\n",
        "coluna_evolucao"
      ],
      "metadata": {
        "colab": {
          "base_uri": "https://localhost:8080/"
        },
        "id": "zFqn6IkMIZKl",
        "outputId": "8ea134e7-e067-4f91-d1d8-555668f5809e"
      },
      "execution_count": null,
      "outputs": [
        {
          "output_type": "execute_result",
          "data": {
            "text/plain": [
              "0                 Cura\n",
              "1                 Cura\n",
              "2         Em Avaliacao\n",
              "3                 Cura\n",
              "4         Em Avaliacao\n",
              "              ...     \n",
              "173873            Cura\n",
              "173874            Cura\n",
              "173875            Cura\n",
              "173876            Cura\n",
              "173877           Obito\n",
              "Name: EVOLUCAO, Length: 173878, dtype: object"
            ]
          },
          "metadata": {},
          "execution_count": 73
        }
      ]
    },
    {
      "cell_type": "code",
      "source": [
        "coluna_evolucao.value_counts().sort_index()"
      ],
      "metadata": {
        "colab": {
          "base_uri": "https://localhost:8080/"
        },
        "id": "JbKyb3viIpCU",
        "outputId": "6575b112-9305-495f-be74-793f47dd5872"
      },
      "execution_count": null,
      "outputs": [
        {
          "output_type": "execute_result",
          "data": {
            "text/plain": [
              "Cura            108515\n",
              "Em Avaliacao     25527\n",
              "Obito            39836\n",
              "Name: EVOLUCAO, dtype: int64"
            ]
          },
          "metadata": {},
          "execution_count": 74
        }
      ]
    },
    {
      "cell_type": "code",
      "source": [
        "coluna_evolucao.hist(bins=5)"
      ],
      "metadata": {
        "colab": {
          "base_uri": "https://localhost:8080/",
          "height": 447
        },
        "id": "6yagxa5qIuWc",
        "outputId": "1c1e47ea-8312-473c-bf71-f1e223900776"
      },
      "execution_count": null,
      "outputs": [
        {
          "output_type": "execute_result",
          "data": {
            "text/plain": [
              "<Axes: >"
            ]
          },
          "metadata": {},
          "execution_count": 75
        },
        {
          "output_type": "display_data",
          "data": {
            "text/plain": [
              "<Figure size 640x480 with 1 Axes>"
            ],
            "image/png": "[encoded data removed]"
          },
          "metadata": {}
        }
      ]
    },
    {
      "cell_type": "code",
      "source": [
        "import pandas as pd\n",
        "import matplotlib.pyplot as plt\n",
        "\n",
        "# Carregar o DataFrame a partir do link\n",
        "url = 'https://raw.githubusercontent.com/juniorgtx/covid19-sp_completo/main/datasets/DATAFREME_SRAG1.csv'\n",
        "df = pd.read_csv(url, delimiter=';', encoding='ISO-8859-1')\n",
        "\n",
        "df.head()"
      ],
      "metadata": {
        "id": "L7dLpxkfJQ8v",
        "colab": {
          "base_uri": "https://localhost:8080/",
          "height": 357
        },
        "outputId": "deaca685-52a0-4d16-e7f5-f9186db24e76"
      },
      "execution_count": null,
      "outputs": [
        {
          "output_type": "execute_result",
          "data": {
            "text/plain": [
              "  DATA_DE_NOTIFICACAO  Municipio SG_UF  Faixa_Etaria        CS_RACA  \\\n",
              "0          29/04/2023  SAO PAULO    SP             0         Branca   \n",
              "1          11/05/2021  SAO PAULO    SP            35          Preta   \n",
              "2          05/05/2023  SAO PAULO    SP            90         Branca   \n",
              "3          28/04/2023  SAO PAULO    SP            85  Nao informado   \n",
              "4          22/04/2023  SAO PAULO    SP            70  Nao informado   \n",
              "\n",
              "     CS_SEXO  Outras_SRAG      EVOLUCAO  Qtde_Masculino  Qtde_Feminino  \\\n",
              "0    Feminio  Outras SRAG          Cura               0              1   \n",
              "1  Masculino     Covid-19          Cura               1              0   \n",
              "2    Feminio  Outras SRAG  Em Avaliacao               0              1   \n",
              "3  Masculino  Outras SRAG          Cura               1              0   \n",
              "4  Masculino  Outras SRAG  Em Avaliacao               1              0   \n",
              "\n",
              "   Qtde_Total  \n",
              "0           1  \n",
              "1           1  \n",
              "2           1  \n",
              "3           1  \n",
              "4           1  "
            ],
            "text/html": [
              "\n",
              "  <div id=\"df-c3920574-a3ae-483b-9586-9027c001f380\">\n",
              "    <div class=\"colab-df-container\">\n",
              "      <div>\n",
              "<style scoped>\n",
              "    .dataframe tbody tr th:only-of-type {\n",
              "        vertical-align: middle;\n",
              "    }\n",
              "\n",
              "    .dataframe tbody tr th {\n",
              "        vertical-align: top;\n",
              "    }\n",
              "\n",
              "    .dataframe thead th {\n",
              "        text-align: right;\n",
              "    }\n",
              "</style>\n",
              "<table border=\"1\" class=\"dataframe\">\n",
              "  <thead>\n",
              "    <tr style=\"text-align: right;\">\n",
              "      <th></th>\n",
              "      <th>DATA_DE_NOTIFICACAO</th>\n",
              "      <th>Municipio</th>\n",
              "      <th>SG_UF</th>\n",
              "      <th>Faixa_Etaria</th>\n",
              "      <th>CS_RACA</th>\n",
              "      <th>CS_SEXO</th>\n",
              "      <th>Outras_SRAG</th>\n",
              "      <th>EVOLUCAO</th>\n",
              "      <th>Qtde_Masculino</th>\n",
              "      <th>Qtde_Feminino</th>\n",
              "      <th>Qtde_Total</th>\n",
              "    </tr>\n",
              "  </thead>\n",
              "  <tbody>\n",
              "    <tr>\n",
              "      <th>0</th>\n",
              "      <td>29/04/2023</td>\n",
              "      <td>SAO PAULO</td>\n",
              "      <td>SP</td>\n",
              "      <td>0</td>\n",
              "      <td>Branca</td>\n",
              "      <td>Feminio</td>\n",
              "      <td>Outras SRAG</td>\n",
              "      <td>Cura</td>\n",
              "      <td>0</td>\n",
              "      <td>1</td>\n",
              "      <td>1</td>\n",
              "    </tr>\n",
              "    <tr>\n",
              "      <th>1</th>\n",
              "      <td>11/05/2021</td>\n",
              "      <td>SAO PAULO</td>\n",
              "      <td>SP</td>\n",
              "      <td>35</td>\n",
              "      <td>Preta</td>\n",
              "      <td>Masculino</td>\n",
              "      <td>Covid-19</td>\n",
              "      <td>Cura</td>\n",
              "      <td>1</td>\n",
              "      <td>0</td>\n",
              "      <td>1</td>\n",
              "    </tr>\n",
              "    <tr>\n",
              "      <th>2</th>\n",
              "      <td>05/05/2023</td>\n",
              "      <td>SAO PAULO</td>\n",
              "      <td>SP</td>\n",
              "      <td>90</td>\n",
              "      <td>Branca</td>\n",
              "      <td>Feminio</td>\n",
              "      <td>Outras SRAG</td>\n",
              "      <td>Em Avaliacao</td>\n",
              "      <td>0</td>\n",
              "      <td>1</td>\n",
              "      <td>1</td>\n",
              "    </tr>\n",
              "    <tr>\n",
              "      <th>3</th>\n",
              "      <td>28/04/2023</td>\n",
              "      <td>SAO PAULO</td>\n",
              "      <td>SP</td>\n",
              "      <td>85</td>\n",
              "      <td>Nao informado</td>\n",
              "      <td>Masculino</td>\n",
              "      <td>Outras SRAG</td>\n",
              "      <td>Cura</td>\n",
              "      <td>1</td>\n",
              "      <td>0</td>\n",
              "      <td>1</td>\n",
              "    </tr>\n",
              "    <tr>\n",
              "      <th>4</th>\n",
              "      <td>22/04/2023</td>\n",
              "      <td>SAO PAULO</td>\n",
              "      <td>SP</td>\n",
              "      <td>70</td>\n",
              "      <td>Nao informado</td>\n",
              "      <td>Masculino</td>\n",
              "      <td>Outras SRAG</td>\n",
              "      <td>Em Avaliacao</td>\n",
              "      <td>1</td>\n",
              "      <td>0</td>\n",
              "      <td>1</td>\n",
              "    </tr>\n",
              "  </tbody>\n",
              "</table>\n",
              "</div>\n",
              "      <button class=\"colab-df-convert\" onclick=\"convertToInteractive('df-c3920574-a3ae-483b-9586-9027c001f380')\"\n",
              "              title=\"Convert this dataframe to an interactive table.\"\n",
              "              style=\"display:none;\">\n",
              "        \n",
              "  <svg xmlns=\"http://www.w3.org/2000/svg\" height=\"24px\"viewBox=\"0 0 24 24\"\n",
              "       width=\"24px\">\n",
              "    <path d=\"M0 0h24v24H0V0z\" fill=\"none\"/>\n",
              "    <path d=\"M18.56 5.44l.94 2.06.94-2.06 2.06-.94-2.06-.94-.94-2.06-.94 2.06-2.06.94zm-11 1L8.5 8.5l.94-2.06 2.06-.94-2.06-.94L8.5 2.5l-.94 2.06-2.06.94zm10 10l.94 2.06.94-2.06 2.06-.94-2.06-.94-.94-2.06-.94 2.06-2.06.94z\"/><path d=\"M17.41 7.96l-1.37-1.37c-.4-.4-.92-.59-1.43-.59-.52 0-1.04.2-1.43.59L10.3 9.45l-7.72 7.72c-.78.78-.78 2.05 0 2.83L4 21.41c.39.39.9.59 1.41.59.51 0 1.02-.2 1.41-.59l7.78-7.78 2.81-2.81c.8-.78.8-2.07 0-2.86zM5.41 20L4 18.59l7.72-7.72 1.47 1.35L5.41 20z\"/>\n",
              "  </svg>\n",
              "      </button>\n",
              "      \n",
              "  <style>\n",
              "    .colab-df-container {\n",
              "      display:flex;\n",
              "      flex-wrap:wrap;\n",
              "      gap: 12px;\n",
              "    }\n",
              "\n",
              "    .colab-df-convert {\n",
              "      background-color: #E8F0FE;\n",
              "      border: none;\n",
              "      border-radius: 50%;\n",
              "      cursor: pointer;\n",
              "      display: none;\n",
              "      fill: #1967D2;\n",
              "      height: 32px;\n",
              "      padding: 0 0 0 0;\n",
              "      width: 32px;\n",
              "    }\n",
              "\n",
              "    .colab-df-convert:hover {\n",
              "      background-color: #E2EBFA;\n",
              "      box-shadow: 0px 1px 2px rgba(60, 64, 67, 0.3), 0px 1px 3px 1px rgba(60, 64, 67, 0.15);\n",
              "      fill: #174EA6;\n",
              "    }\n",
              "\n",
              "    [theme=dark] .colab-df-convert {\n",
              "      background-color: #3B4455;\n",
              "      fill: #D2E3FC;\n",
              "    }\n",
              "\n",
              "    [theme=dark] .colab-df-convert:hover {\n",
              "      background-color: #434B5C;\n",
              "      box-shadow: 0px 1px 3px 1px rgba(0, 0, 0, 0.15);\n",
              "      filter: drop-shadow(0px 1px 2px rgba(0, 0, 0, 0.3));\n",
              "      fill: #FFFFFF;\n",
              "    }\n",
              "  </style>\n",
              "\n",
              "      <script>\n",
              "        const buttonEl =\n",
              "          document.querySelector('#df-c3920574-a3ae-483b-9586-9027c001f380 button.colab-df-convert');\n",
              "        buttonEl.style.display =\n",
              "          google.colab.kernel.accessAllowed ? 'block' : 'none';\n",
              "\n",
              "        async function convertToInteractive(key) {\n",
              "          const element = document.querySelector('#df-c3920574-a3ae-483b-9586-9027c001f380');\n",
              "          const dataTable =\n",
              "            await google.colab.kernel.invokeFunction('convertToInteractive',\n",
              "                                                     [key], {});\n",
              "          if (!dataTable) return;\n",
              "\n",
              "          const docLinkHtml = 'Like what you see? Visit the ' +\n",
              "            '<a target=\"_blank\" href=https://colab.research.google.com/notebooks/data_table.ipynb>data table notebook</a>'\n",
              "            + ' to learn more about interactive tables.';\n",
              "          element.innerHTML = '';\n",
              "          dataTable['output_type'] = 'display_data';\n",
              "          await google.colab.output.renderOutput(dataTable, element);\n",
              "          const docLink = document.createElement('div');\n",
              "          docLink.innerHTML = docLinkHtml;\n",
              "          element.appendChild(docLink);\n",
              "        }\n",
              "      </script>\n",
              "    </div>\n",
              "  </div>\n",
              "  "
            ]
          },
          "metadata": {},
          "execution_count": 5
        }
      ]
    },
    {
      "cell_type": "code",
      "source": [
        "import pandas as pd\n",
        "import seaborn as sns\n",
        "import matplotlib.pyplot as plt\n",
        "\n",
        "# Carregar o DataFrame a partir do link fornecido\n",
        "url = \"https://raw.githubusercontent.com/juniorgtx/covid19-sp_completo/main/datasets/DATAFREME_SRAG1.csv\"\n",
        "df = pd.read_csv(url, delimiter=';', encoding='ISO-8859-1')\n",
        "\n",
        "# Extrair o ano da coluna \"DATA_DE_NOTIFICACAO\"\n",
        "df['Ano'] = pd.to_datetime(df['DATA_DE_NOTIFICACAO']).dt.year\n",
        "\n",
        "# Plotar o gráfico de dispersão\n",
        "sns.scatterplot(data=df, x=\"Faixa_Etaria\", y=\"Ano\")\n",
        "\n",
        "# Adicionar uma linha diagonal\n",
        "sns.lineplot(data=df, x=\"Faixa_Etaria\", y=\"Ano\", color=\"red\")\n",
        "\n",
        "# Configurar o formato do eixo x para exibir apenas o ano\n",
        "plt.xticks(rotation=45, ha='right')\n",
        "\n",
        "# Exibir o gráfico\n",
        "plt.show()"
      ],
      "metadata": {
        "colab": {
          "base_uri": "https://localhost:8080/",
          "height": 519
        },
        "id": "LgHTRpiNJSd4",
        "outputId": "7da9bc0f-e941-4b04-d4d5-cdfdf61dd1ee"
      },
      "execution_count": null,
      "outputs": [
        {
          "output_type": "stream",
          "name": "stderr",
          "text": [
            "<ipython-input-7-fa7bb243b113>:10: UserWarning: Parsing dates in DD/MM/YYYY format when dayfirst=False (the default) was specified. This may lead to inconsistently parsed dates! Specify a format to ensure consistent parsing.\n",
            "  df['Ano'] = pd.to_datetime(df['DATA_DE_NOTIFICACAO']).dt.year\n"
          ]
        },
        {
          "output_type": "display_data",
          "data": {
            "text/plain": [
              "<Figure size 640x480 with 1 Axes>"
            ],
            "image/png": "[encoded data removed]"
          },
          "metadata": {}
        }
      ]
    },
    {
      "cell_type": "markdown",
      "source": [
        "## Quantidade de etinias que tiveram obtos dentro de do estado de SP"
      ],
      "metadata": {
        "id": "bfn0gf6KJf9b"
      }
    },
    {
      "cell_type": "code",
      "source": [
        "coluna_cs_raca = casos_e_obtos['CS_RACA']\n",
        "coluna_cs_raca"
      ],
      "metadata": {
        "colab": {
          "base_uri": "https://localhost:8080/"
        },
        "id": "J_AQTvm7Jcwi",
        "outputId": "ad110dab-ea22-4230-e822-04affc17f4b8"
      },
      "execution_count": null,
      "outputs": [
        {
          "output_type": "execute_result",
          "data": {
            "text/plain": [
              "0                Branca\n",
              "1                 Preta\n",
              "2                Branca\n",
              "3         Nao informado\n",
              "4         Nao informado\n",
              "              ...      \n",
              "173873           Branca\n",
              "173874           Branca\n",
              "173875    Nao informado\n",
              "173876          Amarela\n",
              "173877            Parda\n",
              "Name: CS_RACA, Length: 173878, dtype: object"
            ]
          },
          "metadata": {},
          "execution_count": 107
        }
      ]
    },
    {
      "cell_type": "code",
      "source": [
        "coluna_cs_raca.value_counts().sort_index()"
      ],
      "metadata": {
        "colab": {
          "base_uri": "https://localhost:8080/"
        },
        "id": "70NwVelDPKWH",
        "outputId": "1a99fffb-418a-40ab-ac9b-d0447662d63b"
      },
      "execution_count": null,
      "outputs": [
        {
          "output_type": "execute_result",
          "data": {
            "text/plain": [
              "Amarela           4587\n",
              "Branca           64986\n",
              "Indígena           275\n",
              "Nao informado    48305\n",
              "Parda            42821\n",
              "Preta            12904\n",
              "Name: CS_RACA, dtype: int64"
            ]
          },
          "metadata": {},
          "execution_count": 108
        }
      ]
    },
    {
      "cell_type": "code",
      "source": [
        "coluna_cs_raca.hist(bins=12)"
      ],
      "metadata": {
        "colab": {
          "base_uri": "https://localhost:8080/",
          "height": 447
        },
        "id": "pfDgc_68PQBx",
        "outputId": "e0a63f11-0cef-496d-a646-1b40c6f370ea"
      },
      "execution_count": null,
      "outputs": [
        {
          "output_type": "execute_result",
          "data": {
            "text/plain": [
              "<Axes: >"
            ]
          },
          "metadata": {},
          "execution_count": 111
        },
        {
          "output_type": "display_data",
          "data": {
            "text/plain": [
              "<Figure size 640x480 with 1 Axes>"
            ],
            "image/png": "[encoded data removed]"
          },
          "metadata": {}
        }
      ]
    },
    {
      "cell_type": "markdown",
      "source": [
        "# DataSet de quantos teste foram realizados no estado de São Paulo"
      ],
      "metadata": {
        "id": "tphR04iD8epd"
      }
    },
    {
      "cell_type": "code",
      "source": [
        "import pandas as pd\n",
        "import numpy as np\n",
        "import matplotlib.pyplot as plt\n",
        "\n",
        "link = 'https://raw.githubusercontent.com/juniorgtx/covid19-sp_completo/main/datasets/20230501_total-de-testes.csv'\n",
        "teste_realizados = pd.read_csv(link, delimiter=';', encoding='utf-8')"
      ],
      "metadata": {
        "id": "UEqacooz8pBE"
      },
      "execution_count": null,
      "outputs": []
    },
    {
      "cell_type": "code",
      "source": [
        "teste_realizados.head()"
      ],
      "metadata": {
        "colab": {
          "base_uri": "https://localhost:8080/",
          "height": 250
        },
        "id": "AfiwmT8I865L",
        "outputId": "1b660aeb-9dd4-478a-8ef4-2b524f102e46"
      },
      "execution_count": null,
      "outputs": [
        {
          "output_type": "execute_result",
          "data": {
            "text/plain": [
              "    dt_coleta             municipio   cod_ibge laboratorio   tpo_teste  Qtde\n",
              "0  30/01/2021               LIMEIRA  3526902.0      FLEURY         PCR     4\n",
              "1  10/08/2021            TAGUATINGA  1720903.0      FLEURY         PCR     2\n",
              "2  24/08/2020              SOROCABA  3552205.0      FLEURY  SOROLOGICO     1\n",
              "3  18/01/2022                OSASCO  3534401.0        AFIP         PCR     9\n",
              "4  29/11/2021  BERNARDINO DE CAMPOS  3506300.0   MENDELICS         PCR     1"
            ],
            "text/html": [
              "\n",
              "  <div id=\"df-fdabb008-90a7-4b56-bf2b-bfcef148f80a\">\n",
              "    <div class=\"colab-df-container\">\n",
              "      <div>\n",
              "<style scoped>\n",
              "    .dataframe tbody tr th:only-of-type {\n",
              "        vertical-align: middle;\n",
              "    }\n",
              "\n",
              "    .dataframe tbody tr th {\n",
              "        vertical-align: top;\n",
              "    }\n",
              "\n",
              "    .dataframe thead th {\n",
              "        text-align: right;\n",
              "    }\n",
              "</style>\n",
              "<table border=\"1\" class=\"dataframe\">\n",
              "  <thead>\n",
              "    <tr style=\"text-align: right;\">\n",
              "      <th></th>\n",
              "      <th>dt_coleta</th>\n",
              "      <th>municipio</th>\n",
              "      <th>cod_ibge</th>\n",
              "      <th>laboratorio</th>\n",
              "      <th>tpo_teste</th>\n",
              "      <th>Qtde</th>\n",
              "    </tr>\n",
              "  </thead>\n",
              "  <tbody>\n",
              "    <tr>\n",
              "      <th>0</th>\n",
              "      <td>30/01/2021</td>\n",
              "      <td>LIMEIRA</td>\n",
              "      <td>3526902.0</td>\n",
              "      <td>FLEURY</td>\n",
              "      <td>PCR</td>\n",
              "      <td>4</td>\n",
              "    </tr>\n",
              "    <tr>\n",
              "      <th>1</th>\n",
              "      <td>10/08/2021</td>\n",
              "      <td>TAGUATINGA</td>\n",
              "      <td>1720903.0</td>\n",
              "      <td>FLEURY</td>\n",
              "      <td>PCR</td>\n",
              "      <td>2</td>\n",
              "    </tr>\n",
              "    <tr>\n",
              "      <th>2</th>\n",
              "      <td>24/08/2020</td>\n",
              "      <td>SOROCABA</td>\n",
              "      <td>3552205.0</td>\n",
              "      <td>FLEURY</td>\n",
              "      <td>SOROLOGICO</td>\n",
              "      <td>1</td>\n",
              "    </tr>\n",
              "    <tr>\n",
              "      <th>3</th>\n",
              "      <td>18/01/2022</td>\n",
              "      <td>OSASCO</td>\n",
              "      <td>3534401.0</td>\n",
              "      <td>AFIP</td>\n",
              "      <td>PCR</td>\n",
              "      <td>9</td>\n",
              "    </tr>\n",
              "    <tr>\n",
              "      <th>4</th>\n",
              "      <td>29/11/2021</td>\n",
              "      <td>BERNARDINO DE CAMPOS</td>\n",
              "      <td>3506300.0</td>\n",
              "      <td>MENDELICS</td>\n",
              "      <td>PCR</td>\n",
              "      <td>1</td>\n",
              "    </tr>\n",
              "  </tbody>\n",
              "</table>\n",
              "</div>\n",
              "      <button class=\"colab-df-convert\" onclick=\"convertToInteractive('df-fdabb008-90a7-4b56-bf2b-bfcef148f80a')\"\n",
              "              title=\"Convert this dataframe to an interactive table.\"\n",
              "              style=\"display:none;\">\n",
              "        \n",
              "  <svg xmlns=\"http://www.w3.org/2000/svg\" height=\"24px\"viewBox=\"0 0 24 24\"\n",
              "       width=\"24px\">\n",
              "    <path d=\"M0 0h24v24H0V0z\" fill=\"none\"/>\n",
              "    <path d=\"M18.56 5.44l.94 2.06.94-2.06 2.06-.94-2.06-.94-.94-2.06-.94 2.06-2.06.94zm-11 1L8.5 8.5l.94-2.06 2.06-.94-2.06-.94L8.5 2.5l-.94 2.06-2.06.94zm10 10l.94 2.06.94-2.06 2.06-.94-2.06-.94-.94-2.06-.94 2.06-2.06.94z\"/><path d=\"M17.41 7.96l-1.37-1.37c-.4-.4-.92-.59-1.43-.59-.52 0-1.04.2-1.43.59L10.3 9.45l-7.72 7.72c-.78.78-.78 2.05 0 2.83L4 21.41c.39.39.9.59 1.41.59.51 0 1.02-.2 1.41-.59l7.78-7.78 2.81-2.81c.8-.78.8-2.07 0-2.86zM5.41 20L4 18.59l7.72-7.72 1.47 1.35L5.41 20z\"/>\n",
              "  </svg>\n",
              "      </button>\n",
              "      \n",
              "  <style>\n",
              "    .colab-df-container {\n",
              "      display:flex;\n",
              "      flex-wrap:wrap;\n",
              "      gap: 12px;\n",
              "    }\n",
              "\n",
              "    .colab-df-convert {\n",
              "      background-color: #E8F0FE;\n",
              "      border: none;\n",
              "      border-radius: 50%;\n",
              "      cursor: pointer;\n",
              "      display: none;\n",
              "      fill: #1967D2;\n",
              "      height: 32px;\n",
              "      padding: 0 0 0 0;\n",
              "      width: 32px;\n",
              "    }\n",
              "\n",
              "    .colab-df-convert:hover {\n",
              "      background-color: #E2EBFA;\n",
              "      box-shadow: 0px 1px 2px rgba(60, 64, 67, 0.3), 0px 1px 3px 1px rgba(60, 64, 67, 0.15);\n",
              "      fill: #174EA6;\n",
              "    }\n",
              "\n",
              "    [theme=dark] .colab-df-convert {\n",
              "      background-color: #3B4455;\n",
              "      fill: #D2E3FC;\n",
              "    }\n",
              "\n",
              "    [theme=dark] .colab-df-convert:hover {\n",
              "      background-color: #434B5C;\n",
              "      box-shadow: 0px 1px 3px 1px rgba(0, 0, 0, 0.15);\n",
              "      filter: drop-shadow(0px 1px 2px rgba(0, 0, 0, 0.3));\n",
              "      fill: #FFFFFF;\n",
              "    }\n",
              "  </style>\n",
              "\n",
              "      <script>\n",
              "        const buttonEl =\n",
              "          document.querySelector('#df-fdabb008-90a7-4b56-bf2b-bfcef148f80a button.colab-df-convert');\n",
              "        buttonEl.style.display =\n",
              "          google.colab.kernel.accessAllowed ? 'block' : 'none';\n",
              "\n",
              "        async function convertToInteractive(key) {\n",
              "          const element = document.querySelector('#df-fdabb008-90a7-4b56-bf2b-bfcef148f80a');\n",
              "          const dataTable =\n",
              "            await google.colab.kernel.invokeFunction('convertToInteractive',\n",
              "                                                     [key], {});\n",
              "          if (!dataTable) return;\n",
              "\n",
              "          const docLinkHtml = 'Like what you see? Visit the ' +\n",
              "            '<a target=\"_blank\" href=https://colab.research.google.com/notebooks/data_table.ipynb>data table notebook</a>'\n",
              "            + ' to learn more about interactive tables.';\n",
              "          element.innerHTML = '';\n",
              "          dataTable['output_type'] = 'display_data';\n",
              "          await google.colab.output.renderOutput(dataTable, element);\n",
              "          const docLink = document.createElement('div');\n",
              "          docLink.innerHTML = docLinkHtml;\n",
              "          element.appendChild(docLink);\n",
              "        }\n",
              "      </script>\n",
              "    </div>\n",
              "  </div>\n",
              "  "
            ]
          },
          "metadata": {},
          "execution_count": 3
        }
      ]
    },
    {
      "cell_type": "code",
      "source": [
        "teste_realizados.describe()"
      ],
      "metadata": {
        "colab": {
          "base_uri": "https://localhost:8080/",
          "height": 300
        },
        "id": "SZwBfPD0wg60",
        "outputId": "5843c19e-d48e-4141-ce87-f864fd5dd9d5"
      },
      "execution_count": null,
      "outputs": [
        {
          "output_type": "execute_result",
          "data": {
            "text/plain": [
              "           cod_ibge           Qtde\n",
              "count  3.516170e+05  352392.000000\n",
              "mean   3.482854e+06      13.451222\n",
              "std    4.009209e+05     139.299157\n",
              "min    1.100023e+06       1.000000\n",
              "25%    3.509502e+06       1.000000\n",
              "50%    3.527207e+06       1.000000\n",
              "75%    3.548708e+06       4.000000\n",
              "max    5.300108e+06   23298.000000"
            ],
            "text/html": [
              "\n",
              "  <div id=\"df-5f160255-620f-4826-bf9b-cd0558b03a67\">\n",
              "    <div class=\"colab-df-container\">\n",
              "      <div>\n",
              "<style scoped>\n",
              "    .dataframe tbody tr th:only-of-type {\n",
              "        vertical-align: middle;\n",
              "    }\n",
              "\n",
              "    .dataframe tbody tr th {\n",
              "        vertical-align: top;\n",
              "    }\n",
              "\n",
              "    .dataframe thead th {\n",
              "        text-align: right;\n",
              "    }\n",
              "</style>\n",
              "<table border=\"1\" class=\"dataframe\">\n",
              "  <thead>\n",
              "    <tr style=\"text-align: right;\">\n",
              "      <th></th>\n",
              "      <th>cod_ibge</th>\n",
              "      <th>Qtde</th>\n",
              "    </tr>\n",
              "  </thead>\n",
              "  <tbody>\n",
              "    <tr>\n",
              "      <th>count</th>\n",
              "      <td>3.516170e+05</td>\n",
              "      <td>352392.000000</td>\n",
              "    </tr>\n",
              "    <tr>\n",
              "      <th>mean</th>\n",
              "      <td>3.482854e+06</td>\n",
              "      <td>13.451222</td>\n",
              "    </tr>\n",
              "    <tr>\n",
              "      <th>std</th>\n",
              "      <td>4.009209e+05</td>\n",
              "      <td>139.299157</td>\n",
              "    </tr>\n",
              "    <tr>\n",
              "      <th>min</th>\n",
              "      <td>1.100023e+06</td>\n",
              "      <td>1.000000</td>\n",
              "    </tr>\n",
              "    <tr>\n",
              "      <th>25%</th>\n",
              "      <td>3.509502e+06</td>\n",
              "      <td>1.000000</td>\n",
              "    </tr>\n",
              "    <tr>\n",
              "      <th>50%</th>\n",
              "      <td>3.527207e+06</td>\n",
              "      <td>1.000000</td>\n",
              "    </tr>\n",
              "    <tr>\n",
              "      <th>75%</th>\n",
              "      <td>3.548708e+06</td>\n",
              "      <td>4.000000</td>\n",
              "    </tr>\n",
              "    <tr>\n",
              "      <th>max</th>\n",
              "      <td>5.300108e+06</td>\n",
              "      <td>23298.000000</td>\n",
              "    </tr>\n",
              "  </tbody>\n",
              "</table>\n",
              "</div>\n",
              "      <button class=\"colab-df-convert\" onclick=\"convertToInteractive('df-5f160255-620f-4826-bf9b-cd0558b03a67')\"\n",
              "              title=\"Convert this dataframe to an interactive table.\"\n",
              "              style=\"display:none;\">\n",
              "        \n",
              "  <svg xmlns=\"http://www.w3.org/2000/svg\" height=\"24px\"viewBox=\"0 0 24 24\"\n",
              "       width=\"24px\">\n",
              "    <path d=\"M0 0h24v24H0V0z\" fill=\"none\"/>\n",
              "    <path d=\"M18.56 5.44l.94 2.06.94-2.06 2.06-.94-2.06-.94-.94-2.06-.94 2.06-2.06.94zm-11 1L8.5 8.5l.94-2.06 2.06-.94-2.06-.94L8.5 2.5l-.94 2.06-2.06.94zm10 10l.94 2.06.94-2.06 2.06-.94-2.06-.94-.94-2.06-.94 2.06-2.06.94z\"/><path d=\"M17.41 7.96l-1.37-1.37c-.4-.4-.92-.59-1.43-.59-.52 0-1.04.2-1.43.59L10.3 9.45l-7.72 7.72c-.78.78-.78 2.05 0 2.83L4 21.41c.39.39.9.59 1.41.59.51 0 1.02-.2 1.41-.59l7.78-7.78 2.81-2.81c.8-.78.8-2.07 0-2.86zM5.41 20L4 18.59l7.72-7.72 1.47 1.35L5.41 20z\"/>\n",
              "  </svg>\n",
              "      </button>\n",
              "      \n",
              "  <style>\n",
              "    .colab-df-container {\n",
              "      display:flex;\n",
              "      flex-wrap:wrap;\n",
              "      gap: 12px;\n",
              "    }\n",
              "\n",
              "    .colab-df-convert {\n",
              "      background-color: #E8F0FE;\n",
              "      border: none;\n",
              "      border-radius: 50%;\n",
              "      cursor: pointer;\n",
              "      display: none;\n",
              "      fill: #1967D2;\n",
              "      height: 32px;\n",
              "      padding: 0 0 0 0;\n",
              "      width: 32px;\n",
              "    }\n",
              "\n",
              "    .colab-df-convert:hover {\n",
              "      background-color: #E2EBFA;\n",
              "      box-shadow: 0px 1px 2px rgba(60, 64, 67, 0.3), 0px 1px 3px 1px rgba(60, 64, 67, 0.15);\n",
              "      fill: #174EA6;\n",
              "    }\n",
              "\n",
              "    [theme=dark] .colab-df-convert {\n",
              "      background-color: #3B4455;\n",
              "      fill: #D2E3FC;\n",
              "    }\n",
              "\n",
              "    [theme=dark] .colab-df-convert:hover {\n",
              "      background-color: #434B5C;\n",
              "      box-shadow: 0px 1px 3px 1px rgba(0, 0, 0, 0.15);\n",
              "      filter: drop-shadow(0px 1px 2px rgba(0, 0, 0, 0.3));\n",
              "      fill: #FFFFFF;\n",
              "    }\n",
              "  </style>\n",
              "\n",
              "      <script>\n",
              "        const buttonEl =\n",
              "          document.querySelector('#df-5f160255-620f-4826-bf9b-cd0558b03a67 button.colab-df-convert');\n",
              "        buttonEl.style.display =\n",
              "          google.colab.kernel.accessAllowed ? 'block' : 'none';\n",
              "\n",
              "        async function convertToInteractive(key) {\n",
              "          const element = document.querySelector('#df-5f160255-620f-4826-bf9b-cd0558b03a67');\n",
              "          const dataTable =\n",
              "            await google.colab.kernel.invokeFunction('convertToInteractive',\n",
              "                                                     [key], {});\n",
              "          if (!dataTable) return;\n",
              "\n",
              "          const docLinkHtml = 'Like what you see? Visit the ' +\n",
              "            '<a target=\"_blank\" href=https://colab.research.google.com/notebooks/data_table.ipynb>data table notebook</a>'\n",
              "            + ' to learn more about interactive tables.';\n",
              "          element.innerHTML = '';\n",
              "          dataTable['output_type'] = 'display_data';\n",
              "          await google.colab.output.renderOutput(dataTable, element);\n",
              "          const docLink = document.createElement('div');\n",
              "          docLink.innerHTML = docLinkHtml;\n",
              "          element.appendChild(docLink);\n",
              "        }\n",
              "      </script>\n",
              "    </div>\n",
              "  </div>\n",
              "  "
            ]
          },
          "metadata": {},
          "execution_count": 4
        }
      ]
    },
    {
      "cell_type": "code",
      "source": [
        "# Calcular a média\n",
        "media = teste_realizados['Qtde'].mean()\n",
        "print('Média: ', media)"
      ],
      "metadata": {
        "colab": {
          "base_uri": "https://localhost:8080/"
        },
        "id": "L7jGoytV-s63",
        "outputId": "5754def8-8855-4765-ac88-35e608718cb4"
      },
      "execution_count": null,
      "outputs": [
        {
          "output_type": "stream",
          "name": "stdout",
          "text": [
            "Média:  13.45122193466367\n"
          ]
        }
      ]
    },
    {
      "cell_type": "code",
      "source": [
        "coluna_Qtde = teste_realizados['Qtde']\n",
        "coluna_Qtde"
      ],
      "metadata": {
        "colab": {
          "base_uri": "https://localhost:8080/"
        },
        "id": "2DozdrpE_Ael",
        "outputId": "67a59269-6f04-4222-ccca-bd9b52ffd8e3"
      },
      "execution_count": null,
      "outputs": [
        {
          "output_type": "execute_result",
          "data": {
            "text/plain": [
              "0         4\n",
              "1         2\n",
              "2         1\n",
              "3         9\n",
              "4         1\n",
              "         ..\n",
              "352387    1\n",
              "352388    1\n",
              "352389    1\n",
              "352390    1\n",
              "352391    1\n",
              "Name: Qtde, Length: 352392, dtype: int64"
            ]
          },
          "metadata": {},
          "execution_count": 9
        }
      ]
    },
    {
      "cell_type": "code",
      "source": [
        "coluna_Qtde.value_counts().sort_index()"
      ],
      "metadata": {
        "colab": {
          "base_uri": "https://localhost:8080/"
        },
        "id": "dCEcYF1F_Qjj",
        "outputId": "010c2d82-1967-447a-c829-a82a0f56107b"
      },
      "execution_count": null,
      "outputs": [
        {
          "output_type": "execute_result",
          "data": {
            "text/plain": [
              "1        191382\n",
              "2         40063\n",
              "3         18982\n",
              "4         14060\n",
              "5          9432\n",
              "          ...  \n",
              "14621         1\n",
              "17391         1\n",
              "18769         1\n",
              "19204         1\n",
              "23298         1\n",
              "Name: Qtde, Length: 1282, dtype: int64"
            ]
          },
          "metadata": {},
          "execution_count": 10
        }
      ]
    },
    {
      "cell_type": "code",
      "source": [
        "coluna_Qtde.hist(bins=12)"
      ],
      "metadata": {
        "id": "-N4bvwQm_XAn",
        "outputId": "64425110-e716-44b8-ef46-12d194d9241f",
        "colab": {
          "base_uri": "https://localhost:8080/",
          "height": 447
        }
      },
      "execution_count": null,
      "outputs": [
        {
          "output_type": "execute_result",
          "data": {
            "text/plain": [
              "<Axes: >"
            ]
          },
          "metadata": {},
          "execution_count": 11
        },
        {
          "output_type": "display_data",
          "data": {
            "text/plain": [
              "<Figure size 640x480 with 1 Axes>"
            ],
            "image/png": "[encoded data removed]"
          },
          "metadata": {}
        }
      ]
    },
    {
      "cell_type": "code",
      "source": [
        "#Mapa de calor dos municipios com os maiores indices de teste e o tipo de teste mais realizado em cada municipio.\n",
        "\n",
        "import pandas as pd\n",
        "import seaborn as sns\n",
        "import matplotlib.pyplot as plt\n",
        "import requests\n",
        "import io\n",
        "\n",
        "# URL do arquivo CSV\n",
        "url = 'https://raw.githubusercontent.com/juniorgtx/covid19-sp_completo/main/datasets/20230501_total-de-testes.csv'\n",
        "\n",
        "# Fazer a requisição GET para obter o conteúdo do arquivo\n",
        "response = requests.get(url)\n",
        "data = response.text\n",
        "\n",
        "# Criar um dataframe a partir do conteúdo do arquivo\n",
        "df = pd.read_csv(io.StringIO(data), sep=';')\n",
        "\n",
        "# Mapear valores da coluna \"tpo_teste\" para representação numérica\n",
        "tipo_teste_map = {'PCR': 1, 'Teste Rápido': 2, 'Sorologia': 3, 'Outros': 4}\n",
        "df['tpo_teste'] = df['tpo_teste'].map(tipo_teste_map)\n",
        "\n",
        "# Filtrar dados válidos na coluna \"tpo_teste\"\n",
        "valid_data = df[df['tpo_teste'].notna()]\n",
        "\n",
        "# Selecionar os primeiros 20 municípios\n",
        "valid_data = valid_data.head(20)\n",
        "\n",
        "# Criar o mapa de calor\n",
        "heatmap_data = valid_data.pivot_table(index='municipio', values='tpo_teste', aggfunc=lambda x: x.iloc[0])\n",
        "heatmap_data = heatmap_data.astype(float)  # Converter para float\n",
        "\n",
        "plt.figure(figsize=(12, 8))\n",
        "sns.heatmap(heatmap_data, cmap='YlOrRd', linewidths=0.5)\n",
        "\n",
        "# Configurar os rótulos dos eixos\n",
        "plt.xlabel('Município')\n",
        "plt.ylabel('')\n",
        "\n",
        "# Adicionar eixo secundário com os nomes dos testes\n",
        "ax2 = plt.gca().twinx()\n",
        "ax2.set_ylim(ax2.get_ylim()[0], ax2.get_ylim()[1])  # Ajustar os limites do eixo secundário para combinar com o mapa de calor\n",
        "ax2.set_yticks([])  # Desativar os ticks do eixo secundário\n",
        "ax2.set_ylabel('Tipo de Teste', rotation=270, labelpad=15)  # Rótulo do eixo secundário\n",
        "\n",
        "# Mapear valores numéricos de volta para os nomes dos testes\n",
        "tipo_teste_map_inverso = {v: k for k, v in tipo_teste_map.items()}\n",
        "tick_labels = heatmap_data.values.ravel()\n",
        "tick_labels = [tipo_teste_map_inverso.get(int(label), '') for label in tick_labels]\n",
        "\n",
        "# Criar novo eixo secundário com as localizações correspondentes aos rótulos\n",
        "ax2.set_yticks(range(len(tick_labels)))\n",
        "ax2.set_yticklabels(tick_labels)\n",
        "\n",
        "plt.show()\n"
      ],
      "metadata": {
        "colab": {
          "base_uri": "https://localhost:8080/",
          "height": 702
        },
        "id": "Gd_fjLzjUiLu",
        "outputId": "a3893ad7-2629-4876-f865-2299e6e4c616"
      },
      "execution_count": null,
      "outputs": [
        {
          "output_type": "display_data",
          "data": {
            "text/plain": [
              "<Figure size 1200x800 with 3 Axes>"
            ],
            "image/png": "[encoded data removed]"
          },
          "metadata": {}
        }
      ]
    },
    {
      "cell_type": "markdown",
      "source": [
        "# DataSet de internações da grande São Paulo e outras \n",
        "\n",
        "*   Item da lista\n",
        "*   Item da lista\n",
        "\n",
        "regiões"
      ],
      "metadata": {
        "id": "jI71JvbA9TGc"
      }
    },
    {
      "cell_type": "code",
      "source": [
        "import pandas as pd\n",
        "\n",
        "link = 'https://raw.githubusercontent.com/juniorgtx/covid19-sp_completo/main/datasets/20230510_leitos_internacoes.csv'\n",
        "leitos_internacoes = pd.read_csv(link, delimiter=';', encoding='utf-8')"
      ],
      "metadata": {
        "id": "GEghk2UK9iq9"
      },
      "execution_count": null,
      "outputs": []
    },
    {
      "cell_type": "code",
      "source": [
        "leitos_internacoes.head()"
      ],
      "metadata": {
        "colab": {
          "base_uri": "https://localhost:8080/",
          "height": 391
        },
        "id": "5QIxLBWj96pw",
        "outputId": "c61221db-8986-4c88-b2c2-b3500a85e68c"
      },
      "execution_count": null,
      "outputs": [
        {
          "output_type": "execute_result",
          "data": {
            "text/plain": [
              "     datahora                nome_drs pacientes_uti_mm7d total_covid_uti_mm7d  \\\n",
              "0  2020-05-19  Município de São Paulo            2268,43              2868,00   \n",
              "1  2020-05-19         Grande SP Leste             254,00               329,14   \n",
              "2  2020-05-19         Grande SP Norte              48,86                58,14   \n",
              "3  2020-05-19         Grande SP Oeste             185,43               210,14   \n",
              "4  2020-05-19       Grande SP Sudeste             407,86               536,57   \n",
              "\n",
              "  ocupacao_leitos       pop leitos_pc  internacoes_7d  internacoes_7d_l  \\\n",
              "0           79,09  11869660     24,16          5049.0            4728.0   \n",
              "1           77,17   2977781     11,05           596.0             488.0   \n",
              "2           84,04    603465      9,63           120.0             110.0   \n",
              "3           88,24   1858252     11,31           535.0             431.0   \n",
              "4           76,01   2690590     19,94           970.0             825.0   \n",
              "\n",
              "  internacoes_7v7  pacientes_uti_ultimo_dia  total_covid_uti_ultimo_dia  \\\n",
              "0            6,79                    2402.0                      2990.0   \n",
              "1           22,13                     286.0                       361.0   \n",
              "2            9,09                      55.0                        63.0   \n",
              "3           24,13                     193.0                       212.0   \n",
              "4           17,58                     428.0                       581.0   \n",
              "\n",
              "  ocupacao_leitos_ultimo_dia  internacoes_ultimo_dia pacientes_enf_mm7d  \\\n",
              "0                      80,33                   608.0            3447,14   \n",
              "1                      79,22                    71.0             445,86   \n",
              "2                      87,30                    13.0              87,57   \n",
              "3                      91,04                    61.0             341,00   \n",
              "4                      73,67                   132.0             608,86   \n",
              "\n",
              "  total_covid_enf_mm7d  pacientes_enf_ultimo_dia  total_covid_enf_ultimo_dia  \n",
              "0              4980,86                    3498.0                      5010.0  \n",
              "1               582,43                     433.0                       562.0  \n",
              "2               160,86                      99.0                       160.0  \n",
              "3               513,14                     355.0                       532.0  \n",
              "4              1006,71                     595.0                      1181.0  "
            ],
            "text/html": [
              "\n",
              "  <div id=\"df-d77ba267-bb73-43ad-a68d-0a056acffd8b\">\n",
              "    <div class=\"colab-df-container\">\n",
              "      <div>\n",
              "<style scoped>\n",
              "    .dataframe tbody tr th:only-of-type {\n",
              "        vertical-align: middle;\n",
              "    }\n",
              "\n",
              "    .dataframe tbody tr th {\n",
              "        vertical-align: top;\n",
              "    }\n",
              "\n",
              "    .dataframe thead th {\n",
              "        text-align: right;\n",
              "    }\n",
              "</style>\n",
              "<table border=\"1\" class=\"dataframe\">\n",
              "  <thead>\n",
              "    <tr style=\"text-align: right;\">\n",
              "      <th></th>\n",
              "      <th>datahora</th>\n",
              "      <th>nome_drs</th>\n",
              "      <th>pacientes_uti_mm7d</th>\n",
              "      <th>total_covid_uti_mm7d</th>\n",
              "      <th>ocupacao_leitos</th>\n",
              "      <th>pop</th>\n",
              "      <th>leitos_pc</th>\n",
              "      <th>internacoes_7d</th>\n",
              "      <th>internacoes_7d_l</th>\n",
              "      <th>internacoes_7v7</th>\n",
              "      <th>pacientes_uti_ultimo_dia</th>\n",
              "      <th>total_covid_uti_ultimo_dia</th>\n",
              "      <th>ocupacao_leitos_ultimo_dia</th>\n",
              "      <th>internacoes_ultimo_dia</th>\n",
              "      <th>pacientes_enf_mm7d</th>\n",
              "      <th>total_covid_enf_mm7d</th>\n",
              "      <th>pacientes_enf_ultimo_dia</th>\n",
              "      <th>total_covid_enf_ultimo_dia</th>\n",
              "    </tr>\n",
              "  </thead>\n",
              "  <tbody>\n",
              "    <tr>\n",
              "      <th>0</th>\n",
              "      <td>2020-05-19</td>\n",
              "      <td>Município de São Paulo</td>\n",
              "      <td>2268,43</td>\n",
              "      <td>2868,00</td>\n",
              "      <td>79,09</td>\n",
              "      <td>11869660</td>\n",
              "      <td>24,16</td>\n",
              "      <td>5049.0</td>\n",
              "      <td>4728.0</td>\n",
              "      <td>6,79</td>\n",
              "      <td>2402.0</td>\n",
              "      <td>2990.0</td>\n",
              "      <td>80,33</td>\n",
              "      <td>608.0</td>\n",
              "      <td>3447,14</td>\n",
              "      <td>4980,86</td>\n",
              "      <td>3498.0</td>\n",
              "      <td>5010.0</td>\n",
              "    </tr>\n",
              "    <tr>\n",
              "      <th>1</th>\n",
              "      <td>2020-05-19</td>\n",
              "      <td>Grande SP Leste</td>\n",
              "      <td>254,00</td>\n",
              "      <td>329,14</td>\n",
              "      <td>77,17</td>\n",
              "      <td>2977781</td>\n",
              "      <td>11,05</td>\n",
              "      <td>596.0</td>\n",
              "      <td>488.0</td>\n",
              "      <td>22,13</td>\n",
              "      <td>286.0</td>\n",
              "      <td>361.0</td>\n",
              "      <td>79,22</td>\n",
              "      <td>71.0</td>\n",
              "      <td>445,86</td>\n",
              "      <td>582,43</td>\n",
              "      <td>433.0</td>\n",
              "      <td>562.0</td>\n",
              "    </tr>\n",
              "    <tr>\n",
              "      <th>2</th>\n",
              "      <td>2020-05-19</td>\n",
              "      <td>Grande SP Norte</td>\n",
              "      <td>48,86</td>\n",
              "      <td>58,14</td>\n",
              "      <td>84,04</td>\n",
              "      <td>603465</td>\n",
              "      <td>9,63</td>\n",
              "      <td>120.0</td>\n",
              "      <td>110.0</td>\n",
              "      <td>9,09</td>\n",
              "      <td>55.0</td>\n",
              "      <td>63.0</td>\n",
              "      <td>87,30</td>\n",
              "      <td>13.0</td>\n",
              "      <td>87,57</td>\n",
              "      <td>160,86</td>\n",
              "      <td>99.0</td>\n",
              "      <td>160.0</td>\n",
              "    </tr>\n",
              "    <tr>\n",
              "      <th>3</th>\n",
              "      <td>2020-05-19</td>\n",
              "      <td>Grande SP Oeste</td>\n",
              "      <td>185,43</td>\n",
              "      <td>210,14</td>\n",
              "      <td>88,24</td>\n",
              "      <td>1858252</td>\n",
              "      <td>11,31</td>\n",
              "      <td>535.0</td>\n",
              "      <td>431.0</td>\n",
              "      <td>24,13</td>\n",
              "      <td>193.0</td>\n",
              "      <td>212.0</td>\n",
              "      <td>91,04</td>\n",
              "      <td>61.0</td>\n",
              "      <td>341,00</td>\n",
              "      <td>513,14</td>\n",
              "      <td>355.0</td>\n",
              "      <td>532.0</td>\n",
              "    </tr>\n",
              "    <tr>\n",
              "      <th>4</th>\n",
              "      <td>2020-05-19</td>\n",
              "      <td>Grande SP Sudeste</td>\n",
              "      <td>407,86</td>\n",
              "      <td>536,57</td>\n",
              "      <td>76,01</td>\n",
              "      <td>2690590</td>\n",
              "      <td>19,94</td>\n",
              "      <td>970.0</td>\n",
              "      <td>825.0</td>\n",
              "      <td>17,58</td>\n",
              "      <td>428.0</td>\n",
              "      <td>581.0</td>\n",
              "      <td>73,67</td>\n",
              "      <td>132.0</td>\n",
              "      <td>608,86</td>\n",
              "      <td>1006,71</td>\n",
              "      <td>595.0</td>\n",
              "      <td>1181.0</td>\n",
              "    </tr>\n",
              "  </tbody>\n",
              "</table>\n",
              "</div>\n",
              "      <button class=\"colab-df-convert\" onclick=\"convertToInteractive('df-d77ba267-bb73-43ad-a68d-0a056acffd8b')\"\n",
              "              title=\"Convert this dataframe to an interactive table.\"\n",
              "              style=\"display:none;\">\n",
              "        \n",
              "  <svg xmlns=\"http://www.w3.org/2000/svg\" height=\"24px\"viewBox=\"0 0 24 24\"\n",
              "       width=\"24px\">\n",
              "    <path d=\"M0 0h24v24H0V0z\" fill=\"none\"/>\n",
              "    <path d=\"M18.56 5.44l.94 2.06.94-2.06 2.06-.94-2.06-.94-.94-2.06-.94 2.06-2.06.94zm-11 1L8.5 8.5l.94-2.06 2.06-.94-2.06-.94L8.5 2.5l-.94 2.06-2.06.94zm10 10l.94 2.06.94-2.06 2.06-.94-2.06-.94-.94-2.06-.94 2.06-2.06.94z\"/><path d=\"M17.41 7.96l-1.37-1.37c-.4-.4-.92-.59-1.43-.59-.52 0-1.04.2-1.43.59L10.3 9.45l-7.72 7.72c-.78.78-.78 2.05 0 2.83L4 21.41c.39.39.9.59 1.41.59.51 0 1.02-.2 1.41-.59l7.78-7.78 2.81-2.81c.8-.78.8-2.07 0-2.86zM5.41 20L4 18.59l7.72-7.72 1.47 1.35L5.41 20z\"/>\n",
              "  </svg>\n",
              "      </button>\n",
              "      \n",
              "  <style>\n",
              "    .colab-df-container {\n",
              "      display:flex;\n",
              "      flex-wrap:wrap;\n",
              "      gap: 12px;\n",
              "    }\n",
              "\n",
              "    .colab-df-convert {\n",
              "      background-color: #E8F0FE;\n",
              "      border: none;\n",
              "      border-radius: 50%;\n",
              "      cursor: pointer;\n",
              "      display: none;\n",
              "      fill: #1967D2;\n",
              "      height: 32px;\n",
              "      padding: 0 0 0 0;\n",
              "      width: 32px;\n",
              "    }\n",
              "\n",
              "    .colab-df-convert:hover {\n",
              "      background-color: #E2EBFA;\n",
              "      box-shadow: 0px 1px 2px rgba(60, 64, 67, 0.3), 0px 1px 3px 1px rgba(60, 64, 67, 0.15);\n",
              "      fill: #174EA6;\n",
              "    }\n",
              "\n",
              "    [theme=dark] .colab-df-convert {\n",
              "      background-color: #3B4455;\n",
              "      fill: #D2E3FC;\n",
              "    }\n",
              "\n",
              "    [theme=dark] .colab-df-convert:hover {\n",
              "      background-color: #434B5C;\n",
              "      box-shadow: 0px 1px 3px 1px rgba(0, 0, 0, 0.15);\n",
              "      filter: drop-shadow(0px 1px 2px rgba(0, 0, 0, 0.3));\n",
              "      fill: #FFFFFF;\n",
              "    }\n",
              "  </style>\n",
              "\n",
              "      <script>\n",
              "        const buttonEl =\n",
              "          document.querySelector('#df-d77ba267-bb73-43ad-a68d-0a056acffd8b button.colab-df-convert');\n",
              "        buttonEl.style.display =\n",
              "          google.colab.kernel.accessAllowed ? 'block' : 'none';\n",
              "\n",
              "        async function convertToInteractive(key) {\n",
              "          const element = document.querySelector('#df-d77ba267-bb73-43ad-a68d-0a056acffd8b');\n",
              "          const dataTable =\n",
              "            await google.colab.kernel.invokeFunction('convertToInteractive',\n",
              "                                                     [key], {});\n",
              "          if (!dataTable) return;\n",
              "\n",
              "          const docLinkHtml = 'Like what you see? Visit the ' +\n",
              "            '<a target=\"_blank\" href=https://colab.research.google.com/notebooks/data_table.ipynb>data table notebook</a>'\n",
              "            + ' to learn more about interactive tables.';\n",
              "          element.innerHTML = '';\n",
              "          dataTable['output_type'] = 'display_data';\n",
              "          await google.colab.output.renderOutput(dataTable, element);\n",
              "          const docLink = document.createElement('div');\n",
              "          docLink.innerHTML = docLinkHtml;\n",
              "          element.appendChild(docLink);\n",
              "        }\n",
              "      </script>\n",
              "    </div>\n",
              "  </div>\n",
              "  "
            ]
          },
          "metadata": {},
          "execution_count": 8
        }
      ]
    },
    {
      "cell_type": "markdown",
      "source": [
        "# DataSet com as informações de **quantidade** de doses distribuídas de vacina contra COVID-19 por município no Estado de São Paulo"
      ],
      "metadata": {
        "id": "TZ0_g7lZ-B4s"
      }
    },
    {
      "cell_type": "code",
      "source": [
        "import pandas as pd\n",
        "\n",
        "link = 'https://raw.githubusercontent.com/juniorgtx/covid19-sp_completo/main/datasets/20230426_painel_distribuicao_doses-1.csv'\n",
        "distribuicao_vacinas = pd.read_csv(link, delimiter=';', encoding='utf-8')"
      ],
      "metadata": {
        "id": "9PGzHHPZ-Uoh"
      },
      "execution_count": null,
      "outputs": []
    },
    {
      "cell_type": "code",
      "source": [
        "distribuicao_vacinas.head()"
      ],
      "metadata": {
        "colab": {
          "base_uri": "https://localhost:8080/",
          "height": 206
        },
        "id": "8Ap4YjFd-q7B",
        "outputId": "e0b55b55-477c-4387-b630-20d095e508fd"
      },
      "execution_count": null,
      "outputs": [
        {
          "output_type": "execute_result",
          "data": {
            "text/plain": [
              "    MUNICÍPIO  Doses\n",
              "0  ADAMANTINA  91089\n",
              "1      ADOLFO  12166\n",
              "2       AGUAÍ  93716\n",
              "3      AGUDOS  96186\n",
              "4    ALAMBARI  14992"
            ],
            "text/html": [
              "\n",
              "  <div id=\"df-7dfe1cbb-cbfb-4fac-96e7-0c4011c2108d\">\n",
              "    <div class=\"colab-df-container\">\n",
              "      <div>\n",
              "<style scoped>\n",
              "    .dataframe tbody tr th:only-of-type {\n",
              "        vertical-align: middle;\n",
              "    }\n",
              "\n",
              "    .dataframe tbody tr th {\n",
              "        vertical-align: top;\n",
              "    }\n",
              "\n",
              "    .dataframe thead th {\n",
              "        text-align: right;\n",
              "    }\n",
              "</style>\n",
              "<table border=\"1\" class=\"dataframe\">\n",
              "  <thead>\n",
              "    <tr style=\"text-align: right;\">\n",
              "      <th></th>\n",
              "      <th>MUNICÍPIO</th>\n",
              "      <th>Doses</th>\n",
              "    </tr>\n",
              "  </thead>\n",
              "  <tbody>\n",
              "    <tr>\n",
              "      <th>0</th>\n",
              "      <td>ADAMANTINA</td>\n",
              "      <td>91089</td>\n",
              "    </tr>\n",
              "    <tr>\n",
              "      <th>1</th>\n",
              "      <td>ADOLFO</td>\n",
              "      <td>12166</td>\n",
              "    </tr>\n",
              "    <tr>\n",
              "      <th>2</th>\n",
              "      <td>AGUAÍ</td>\n",
              "      <td>93716</td>\n",
              "    </tr>\n",
              "    <tr>\n",
              "      <th>3</th>\n",
              "      <td>AGUDOS</td>\n",
              "      <td>96186</td>\n",
              "    </tr>\n",
              "    <tr>\n",
              "      <th>4</th>\n",
              "      <td>ALAMBARI</td>\n",
              "      <td>14992</td>\n",
              "    </tr>\n",
              "  </tbody>\n",
              "</table>\n",
              "</div>\n",
              "      <button class=\"colab-df-convert\" onclick=\"convertToInteractive('df-7dfe1cbb-cbfb-4fac-96e7-0c4011c2108d')\"\n",
              "              title=\"Convert this dataframe to an interactive table.\"\n",
              "              style=\"display:none;\">\n",
              "        \n",
              "  <svg xmlns=\"http://www.w3.org/2000/svg\" height=\"24px\"viewBox=\"0 0 24 24\"\n",
              "       width=\"24px\">\n",
              "    <path d=\"M0 0h24v24H0V0z\" fill=\"none\"/>\n",
              "    <path d=\"M18.56 5.44l.94 2.06.94-2.06 2.06-.94-2.06-.94-.94-2.06-.94 2.06-2.06.94zm-11 1L8.5 8.5l.94-2.06 2.06-.94-2.06-.94L8.5 2.5l-.94 2.06-2.06.94zm10 10l.94 2.06.94-2.06 2.06-.94-2.06-.94-.94-2.06-.94 2.06-2.06.94z\"/><path d=\"M17.41 7.96l-1.37-1.37c-.4-.4-.92-.59-1.43-.59-.52 0-1.04.2-1.43.59L10.3 9.45l-7.72 7.72c-.78.78-.78 2.05 0 2.83L4 21.41c.39.39.9.59 1.41.59.51 0 1.02-.2 1.41-.59l7.78-7.78 2.81-2.81c.8-.78.8-2.07 0-2.86zM5.41 20L4 18.59l7.72-7.72 1.47 1.35L5.41 20z\"/>\n",
              "  </svg>\n",
              "      </button>\n",
              "      \n",
              "  <style>\n",
              "    .colab-df-container {\n",
              "      display:flex;\n",
              "      flex-wrap:wrap;\n",
              "      gap: 12px;\n",
              "    }\n",
              "\n",
              "    .colab-df-convert {\n",
              "      background-color: #E8F0FE;\n",
              "      border: none;\n",
              "      border-radius: 50%;\n",
              "      cursor: pointer;\n",
              "      display: none;\n",
              "      fill: #1967D2;\n",
              "      height: 32px;\n",
              "      padding: 0 0 0 0;\n",
              "      width: 32px;\n",
              "    }\n",
              "\n",
              "    .colab-df-convert:hover {\n",
              "      background-color: #E2EBFA;\n",
              "      box-shadow: 0px 1px 2px rgba(60, 64, 67, 0.3), 0px 1px 3px 1px rgba(60, 64, 67, 0.15);\n",
              "      fill: #174EA6;\n",
              "    }\n",
              "\n",
              "    [theme=dark] .colab-df-convert {\n",
              "      background-color: #3B4455;\n",
              "      fill: #D2E3FC;\n",
              "    }\n",
              "\n",
              "    [theme=dark] .colab-df-convert:hover {\n",
              "      background-color: #434B5C;\n",
              "      box-shadow: 0px 1px 3px 1px rgba(0, 0, 0, 0.15);\n",
              "      filter: drop-shadow(0px 1px 2px rgba(0, 0, 0, 0.3));\n",
              "      fill: #FFFFFF;\n",
              "    }\n",
              "  </style>\n",
              "\n",
              "      <script>\n",
              "        const buttonEl =\n",
              "          document.querySelector('#df-7dfe1cbb-cbfb-4fac-96e7-0c4011c2108d button.colab-df-convert');\n",
              "        buttonEl.style.display =\n",
              "          google.colab.kernel.accessAllowed ? 'block' : 'none';\n",
              "\n",
              "        async function convertToInteractive(key) {\n",
              "          const element = document.querySelector('#df-7dfe1cbb-cbfb-4fac-96e7-0c4011c2108d');\n",
              "          const dataTable =\n",
              "            await google.colab.kernel.invokeFunction('convertToInteractive',\n",
              "                                                     [key], {});\n",
              "          if (!dataTable) return;\n",
              "\n",
              "          const docLinkHtml = 'Like what you see? Visit the ' +\n",
              "            '<a target=\"_blank\" href=https://colab.research.google.com/notebooks/data_table.ipynb>data table notebook</a>'\n",
              "            + ' to learn more about interactive tables.';\n",
              "          element.innerHTML = '';\n",
              "          dataTable['output_type'] = 'display_data';\n",
              "          await google.colab.output.renderOutput(dataTable, element);\n",
              "          const docLink = document.createElement('div');\n",
              "          docLink.innerHTML = docLinkHtml;\n",
              "          element.appendChild(docLink);\n",
              "        }\n",
              "      </script>\n",
              "    </div>\n",
              "  </div>\n",
              "  "
            ]
          },
          "metadata": {},
          "execution_count": 41
        }
      ]
    },
    {
      "cell_type": "markdown",
      "source": [
        "# DataSet com o percentual da população vacinada contra COVID-19 por município no Estado de São Paulo\n",
        "\n",
        "\n",
        "\n"
      ],
      "metadata": {
        "id": "18fwZKko_B8S"
      }
    },
    {
      "cell_type": "code",
      "source": [
        "import pandas as pd\n",
        "\n",
        "link = 'https://raw.githubusercontent.com/juniorgtx/covid19-sp_completo/main/datasets/20230426_percentual_primeira_dose-1.csv'\n",
        "vacinados = pd.read_csv(link, delimiter=';', encoding='utf-8')"
      ],
      "metadata": {
        "id": "sF46QMkq_Jmk"
      },
      "execution_count": null,
      "outputs": []
    },
    {
      "cell_type": "code",
      "source": [
        "vacinados.head()"
      ],
      "metadata": {
        "colab": {
          "base_uri": "https://localhost:8080/",
          "height": 206
        },
        "id": "Zyk-xmfp_XjF",
        "outputId": "88dce29a-9c94-400f-a535-07e8d70bc3c3"
      },
      "execution_count": null,
      "outputs": [
        {
          "output_type": "execute_result",
          "data": {
            "text/plain": [
              "   Rank of % em relação a população geral           MUNICÍPIO  PRIMEIRA DOSE  \\\n",
              "0                                       1            FLORÍNEA           4415   \n",
              "1                                       2  NOVA INDEPENDÊNCIA           5162   \n",
              "2                                       3              ADOLFO           4411   \n",
              "3                                       4               CAIUÁ           7245   \n",
              "4                                       5                 URU           1366   \n",
              "\n",
              "   POPULAÇÃO MUNICÍPIO 2020 % em relação a população geral  \n",
              "0                      2653                         1,6642  \n",
              "1                      4053                         1,2736  \n",
              "2                      3554                         1,2411  \n",
              "3                      5946                         1,2185  \n",
              "4                      1153                         1,1847  "
            ],
            "text/html": [
              "\n",
              "  <div id=\"df-5c0d9d95-409d-4ece-a248-2e26541bbb49\">\n",
              "    <div class=\"colab-df-container\">\n",
              "      <div>\n",
              "<style scoped>\n",
              "    .dataframe tbody tr th:only-of-type {\n",
              "        vertical-align: middle;\n",
              "    }\n",
              "\n",
              "    .dataframe tbody tr th {\n",
              "        vertical-align: top;\n",
              "    }\n",
              "\n",
              "    .dataframe thead th {\n",
              "        text-align: right;\n",
              "    }\n",
              "</style>\n",
              "<table border=\"1\" class=\"dataframe\">\n",
              "  <thead>\n",
              "    <tr style=\"text-align: right;\">\n",
              "      <th></th>\n",
              "      <th>Rank of % em relação a população geral</th>\n",
              "      <th>MUNICÍPIO</th>\n",
              "      <th>PRIMEIRA DOSE</th>\n",
              "      <th>POPULAÇÃO MUNICÍPIO 2020</th>\n",
              "      <th>% em relação a população geral</th>\n",
              "    </tr>\n",
              "  </thead>\n",
              "  <tbody>\n",
              "    <tr>\n",
              "      <th>0</th>\n",
              "      <td>1</td>\n",
              "      <td>FLORÍNEA</td>\n",
              "      <td>4415</td>\n",
              "      <td>2653</td>\n",
              "      <td>1,6642</td>\n",
              "    </tr>\n",
              "    <tr>\n",
              "      <th>1</th>\n",
              "      <td>2</td>\n",
              "      <td>NOVA INDEPENDÊNCIA</td>\n",
              "      <td>5162</td>\n",
              "      <td>4053</td>\n",
              "      <td>1,2736</td>\n",
              "    </tr>\n",
              "    <tr>\n",
              "      <th>2</th>\n",
              "      <td>3</td>\n",
              "      <td>ADOLFO</td>\n",
              "      <td>4411</td>\n",
              "      <td>3554</td>\n",
              "      <td>1,2411</td>\n",
              "    </tr>\n",
              "    <tr>\n",
              "      <th>3</th>\n",
              "      <td>4</td>\n",
              "      <td>CAIUÁ</td>\n",
              "      <td>7245</td>\n",
              "      <td>5946</td>\n",
              "      <td>1,2185</td>\n",
              "    </tr>\n",
              "    <tr>\n",
              "      <th>4</th>\n",
              "      <td>5</td>\n",
              "      <td>URU</td>\n",
              "      <td>1366</td>\n",
              "      <td>1153</td>\n",
              "      <td>1,1847</td>\n",
              "    </tr>\n",
              "  </tbody>\n",
              "</table>\n",
              "</div>\n",
              "      <button class=\"colab-df-convert\" onclick=\"convertToInteractive('df-5c0d9d95-409d-4ece-a248-2e26541bbb49')\"\n",
              "              title=\"Convert this dataframe to an interactive table.\"\n",
              "              style=\"display:none;\">\n",
              "        \n",
              "  <svg xmlns=\"http://www.w3.org/2000/svg\" height=\"24px\"viewBox=\"0 0 24 24\"\n",
              "       width=\"24px\">\n",
              "    <path d=\"M0 0h24v24H0V0z\" fill=\"none\"/>\n",
              "    <path d=\"M18.56 5.44l.94 2.06.94-2.06 2.06-.94-2.06-.94-.94-2.06-.94 2.06-2.06.94zm-11 1L8.5 8.5l.94-2.06 2.06-.94-2.06-.94L8.5 2.5l-.94 2.06-2.06.94zm10 10l.94 2.06.94-2.06 2.06-.94-2.06-.94-.94-2.06-.94 2.06-2.06.94z\"/><path d=\"M17.41 7.96l-1.37-1.37c-.4-.4-.92-.59-1.43-.59-.52 0-1.04.2-1.43.59L10.3 9.45l-7.72 7.72c-.78.78-.78 2.05 0 2.83L4 21.41c.39.39.9.59 1.41.59.51 0 1.02-.2 1.41-.59l7.78-7.78 2.81-2.81c.8-.78.8-2.07 0-2.86zM5.41 20L4 18.59l7.72-7.72 1.47 1.35L5.41 20z\"/>\n",
              "  </svg>\n",
              "      </button>\n",
              "      \n",
              "  <style>\n",
              "    .colab-df-container {\n",
              "      display:flex;\n",
              "      flex-wrap:wrap;\n",
              "      gap: 12px;\n",
              "    }\n",
              "\n",
              "    .colab-df-convert {\n",
              "      background-color: #E8F0FE;\n",
              "      border: none;\n",
              "      border-radius: 50%;\n",
              "      cursor: pointer;\n",
              "      display: none;\n",
              "      fill: #1967D2;\n",
              "      height: 32px;\n",
              "      padding: 0 0 0 0;\n",
              "      width: 32px;\n",
              "    }\n",
              "\n",
              "    .colab-df-convert:hover {\n",
              "      background-color: #E2EBFA;\n",
              "      box-shadow: 0px 1px 2px rgba(60, 64, 67, 0.3), 0px 1px 3px 1px rgba(60, 64, 67, 0.15);\n",
              "      fill: #174EA6;\n",
              "    }\n",
              "\n",
              "    [theme=dark] .colab-df-convert {\n",
              "      background-color: #3B4455;\n",
              "      fill: #D2E3FC;\n",
              "    }\n",
              "\n",
              "    [theme=dark] .colab-df-convert:hover {\n",
              "      background-color: #434B5C;\n",
              "      box-shadow: 0px 1px 3px 1px rgba(0, 0, 0, 0.15);\n",
              "      filter: drop-shadow(0px 1px 2px rgba(0, 0, 0, 0.3));\n",
              "      fill: #FFFFFF;\n",
              "    }\n",
              "  </style>\n",
              "\n",
              "      <script>\n",
              "        const buttonEl =\n",
              "          document.querySelector('#df-5c0d9d95-409d-4ece-a248-2e26541bbb49 button.colab-df-convert');\n",
              "        buttonEl.style.display =\n",
              "          google.colab.kernel.accessAllowed ? 'block' : 'none';\n",
              "\n",
              "        async function convertToInteractive(key) {\n",
              "          const element = document.querySelector('#df-5c0d9d95-409d-4ece-a248-2e26541bbb49');\n",
              "          const dataTable =\n",
              "            await google.colab.kernel.invokeFunction('convertToInteractive',\n",
              "                                                     [key], {});\n",
              "          if (!dataTable) return;\n",
              "\n",
              "          const docLinkHtml = 'Like what you see? Visit the ' +\n",
              "            '<a target=\"_blank\" href=https://colab.research.google.com/notebooks/data_table.ipynb>data table notebook</a>'\n",
              "            + ' to learn more about interactive tables.';\n",
              "          element.innerHTML = '';\n",
              "          dataTable['output_type'] = 'display_data';\n",
              "          await google.colab.output.renderOutput(dataTable, element);\n",
              "          const docLink = document.createElement('div');\n",
              "          docLink.innerHTML = docLinkHtml;\n",
              "          element.appendChild(docLink);\n",
              "        }\n",
              "      </script>\n",
              "    </div>\n",
              "  </div>\n",
              "  "
            ]
          },
          "metadata": {},
          "execution_count": 13
        }
      ]
    },
    {
      "cell_type": "code",
      "source": [
        "import pandas as pd\n",
        "import matplotlib.pyplot as plt\n",
        "import numpy as np\n",
        "\n",
        "# Carrega os dados do arquivo CSV\n",
        "link = 'https://raw.githubusercontent.com/juniorgtx/covid19-sp_completo/main/datasets/20230426_percentual_primeira_dose-1.csv'\n",
        "vacinados = pd.read_csv(link, delimiter=';', encoding='utf-8')\n",
        "\n",
        "# 20 com maior indice de vacinação\n",
        "top20_vac = vacinados.nlargest(20, 'PRIMEIRA DOSE')\n",
        "\n",
        "# Prepara os dados para o gráfico de barras\n",
        "municipios = top20_vac['MUNICÍPIO']\n",
        "porcentagens = top20_vac['PRIMEIRA DOSE']\n",
        "\n",
        "# Cor diferente para cada município\n",
        "num_municipios = len(municipios)\n",
        "cores = plt.cm.get_cmap('tab20', num_municipios)\n",
        "\n",
        "# Grafico de barras com cores diferentes\n",
        "plt.figure(figsize=(12, 6))\n",
        "plt.bar(municipios, porcentagens, color=cores(np.arange(num_municipios)))\n",
        "\n",
        "# Informações do gráfico de barras\n",
        "plt.title('Porcentagem de Pessoas Vacinadas em 2020 - Primeira Dose (São Paulo)', fontsize=16)\n",
        "plt.xlabel('Municípios')\n",
        "plt.ylabel('Porcentagem de Vacinados')\n",
        "plt.xticks(rotation=90)\n",
        "plt.tight_layout()\n",
        "\n",
        "# Exibe o gráfico de barras\n",
        "plt.show()\n"
      ],
      "metadata": {
        "colab": {
          "base_uri": "https://localhost:8080/",
          "height": 662
        },
        "id": "SonQFa-EpfMp",
        "outputId": "eb347e32-eb8a-4848-a717-19a5c1945aa8"
      },
      "execution_count": null,
      "outputs": [
        {
          "output_type": "stream",
          "name": "stderr",
          "text": [
            "<ipython-input-2-ec6d4769b5f6>:18: MatplotlibDeprecationWarning: The get_cmap function was deprecated in Matplotlib 3.7 and will be removed two minor releases later. Use ``matplotlib.colormaps[name]`` or ``matplotlib.colormaps.get_cmap(obj)`` instead.\n",
            "  cores = plt.cm.get_cmap('tab20', num_municipios)\n"
          ]
        },
        {
          "output_type": "display_data",
          "data": {
            "text/plain": [
              "<Figure size 1200x600 with 1 Axes>"
            ],
            "image/png": "[encoded data removed]"
          },
          "metadata": {}
        }
      ]
    },
    {
      "cell_type": "code",
      "source": [
        "import requests\n",
        "from PIL import Image\n",
        "from io import BytesIO\n",
        "\n",
        "url = 'https://cidadedesaopaulo.com/wp-content/themes/cidadedesaopaulo.com/images/planeje_mapadesaopaulo.png'\n",
        "\n",
        "# Faz o download da imagem\n",
        "response = requests.get(url)\n",
        "imagem_bytes = response.content\n",
        "\n",
        "# Abre e exibe a imagem\n",
        "imagem = Image.open(BytesIO(imagem_bytes))\n",
        "imagem.show()"
      ],
      "metadata": {
        "id": "8DCTrQO0x8aE",
        "outputId": "a4192046-f2ff-47db-a335-121024b7fed7",
        "colab": {
          "base_uri": "https://localhost:8080/",
          "height": 708
        }
      },
      "execution_count": null,
      "outputs": [
        {
          "output_type": "display_data",
          "data": {
            "text/plain": [
              "<PIL.PngImagePlugin.PngImageFile image mode=RGBA size=590x691 at 0x7F1D87F96440>"
            ],
            "image/png": "[encoded data removed]"
          },
          "metadata": {}
        }
      ]
    }
  ]
}